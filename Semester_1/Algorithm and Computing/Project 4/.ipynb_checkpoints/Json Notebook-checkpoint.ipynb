{
 "cells": [
  {
   "cell_type": "markdown",
   "metadata": {},
   "source": [
    "# JSON Notebook"
   ]
  },
  {
   "cell_type": "markdown",
   "metadata": {},
   "source": [
    "## The objective of this notebook is to discover JSON and how to manage JSON files in Python."
   ]
  },
  {
   "cell_type": "markdown",
   "metadata": {},
   "source": [
    "What is JSON?\n",
    "\n",
    "* JSON stands for JavaScript Object Notation\n",
    "* JSON is a lightweight data-interchange format \n",
    "* JSON is \"self-describing\" and easy to understand\n",
    "* JSON is language independent\n",
    "\n",
    "Note that JSON uses JavaScript syntax, but the JSON format is text only, just like XML.\n",
    "Text can be read and used as a data format by any programming language.\n"
   ]
  },
  {
   "cell_type": "markdown",
   "metadata": {},
   "source": [
    "First of all, take a look on the wikipedia links :  https://en.wikipedia.org/wiki/JSON \n",
    "Please, don't spend too much time !       "
   ]
  },
  {
   "cell_type": "markdown",
   "metadata": {},
   "source": [
    "As you have understood, JSON is a format to easily represent data. An example of JSON data is given below :"
   ]
  },
  {
   "cell_type": "markdown",
   "metadata": {},
   "source": [
    "{\n",
    "        \"city\": \"New Dehli\", \n",
    "        \"name\": \"Kumar\",\n",
    "        \"age\" : \"21\"\n",
    "}"
   ]
  },
  {
   "cell_type": "markdown",
   "metadata": {},
   "source": [
    "Consider the (Python) string associated to these data :"
   ]
  },
  {
   "cell_type": "code",
   "execution_count": 1,
   "metadata": {},
   "outputs": [],
   "source": [
    "json_string = '{\"name\": \"Kumar\",\"city\": \"New Dehli\",\"age\" : \"21\"}'"
   ]
  },
  {
   "cell_type": "markdown",
   "metadata": {},
   "source": [
    "You can transform this string as a dictionary by loading it with the json Python library. Do not forget to import the library :"
   ]
  },
  {
   "cell_type": "code",
   "execution_count": 2,
   "metadata": {},
   "outputs": [
    {
     "name": "stdout",
     "output_type": "stream",
     "text": [
      "{'name': 'Kumar', 'city': 'New Dehli', 'age': '21'}\n"
     ]
    }
   ],
   "source": [
    "import json\n",
    "parsed_json = json.loads(json_string)\n",
    "print(parsed_json)"
   ]
  },
  {
   "cell_type": "markdown",
   "metadata": {},
   "source": [
    "Write the command to access to the values of this dictionary :"
   ]
  },
  {
   "cell_type": "code",
   "execution_count": 17,
   "metadata": {},
   "outputs": [
    {
     "data": {
      "text/plain": [
       "dict_values(['Kumar', 'New Dehli', '21'])"
      ]
     },
     "execution_count": 17,
     "metadata": {},
     "output_type": "execute_result"
    }
   ],
   "source": [
    "parsed_json.values()"
   ]
  },
  {
   "cell_type": "markdown",
   "metadata": {},
   "source": [
    "Now, let us load the data from a file. Please, download the file on the lms. \n",
    "We first need to open the file, tranform it as a string and then to load it as json file.   "
   ]
  },
  {
   "cell_type": "code",
   "execution_count": 6,
   "metadata": {},
   "outputs": [],
   "source": [
    "data_file = open('data/jsonExample.json')\n",
    "json_string = data_file.read()\n",
    "data = json.loads(json_string)"
   ]
  },
  {
   "cell_type": "markdown",
   "metadata": {
    "collapsed": true
   },
   "source": [
    "Print data and analyse it. Can you recognize a dictionary structure ? Print the data associated to the key. "
   ]
  },
  {
   "cell_type": "code",
   "execution_count": 13,
   "metadata": {},
   "outputs": [
    {
     "name": "stdout",
     "output_type": "stream",
     "text": [
      "{'persons': [{'city': 'Seattle', 'name': 'Brian'}, {'city': 'Amsterdam', 'name': 'David'}]}\n"
     ]
    }
   ],
   "source": [
    "print(data)"
   ]
  },
  {
   "cell_type": "code",
   "execution_count": 15,
   "metadata": {},
   "outputs": [
    {
     "data": {
      "text/plain": [
       "[{'city': 'Seattle', 'name': 'Brian'}, {'city': 'Amsterdam', 'name': 'David'}]"
      ]
     },
     "execution_count": 15,
     "metadata": {},
     "output_type": "execute_result"
    }
   ],
   "source": [
    "data['persons']"
   ]
  },
  {
   "cell_type": "markdown",
   "metadata": {},
   "source": [
    "You can observe that the data associated to this key is a list. Print the entries of the list.  "
   ]
  },
  {
   "cell_type": "code",
   "execution_count": 16,
   "metadata": {},
   "outputs": [
    {
     "name": "stdout",
     "output_type": "stream",
     "text": [
      "{'city': 'Seattle', 'name': 'Brian'}\n",
      "{'city': 'Amsterdam', 'name': 'David'}\n"
     ]
    }
   ],
   "source": [
    "for i in data['persons']:\n",
    "    print(i)"
   ]
  },
  {
   "cell_type": "markdown",
   "metadata": {},
   "source": [
    "Thus, you can observe that each entry of the list is a dictionary. Print the value associated to the key 'city' for all entries."
   ]
  },
  {
   "cell_type": "code",
   "execution_count": 20,
   "metadata": {},
   "outputs": [
    {
     "name": "stdout",
     "output_type": "stream",
     "text": [
      "Seattle\n",
      "Amsterdam\n"
     ]
    }
   ],
   "source": [
    "for i in data['persons']:\n",
    "    print(i['city'])"
   ]
  },
  {
   "cell_type": "code",
   "execution_count": 24,
   "metadata": {},
   "outputs": [
    {
     "name": "stdout",
     "output_type": "stream",
     "text": [
      "Seattle\n",
      "Amsterdam\n"
     ]
    }
   ],
   "source": [
    "# Simpler\n",
    "\n",
    "print(data['persons'][0]['city'])\n",
    "print(data['persons'][1]['city'])"
   ]
  },
  {
   "cell_type": "markdown",
   "metadata": {},
   "source": [
    "Fine !! Now, you should have undestood how to enter into the json structures :) Let's come back to the LMS to move to a bigger example"
   ]
  }
 ],
 "metadata": {
  "kernelspec": {
   "display_name": "Python 3",
   "language": "python",
   "name": "python3"
  },
  "language_info": {
   "codemirror_mode": {
    "name": "ipython",
    "version": 3
   },
   "file_extension": ".py",
   "mimetype": "text/x-python",
   "name": "python",
   "nbconvert_exporter": "python",
   "pygments_lexer": "ipython3",
   "version": "3.8.8"
  }
 },
 "nbformat": 4,
 "nbformat_minor": 1
}
