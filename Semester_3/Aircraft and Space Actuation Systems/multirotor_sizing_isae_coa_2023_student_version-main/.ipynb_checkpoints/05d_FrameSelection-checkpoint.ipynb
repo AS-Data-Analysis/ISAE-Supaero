{
 "cells": [
  {
   "cell_type": "markdown",
   "metadata": {
    "slideshow": {
     "slide_type": "slide"
    }
   },
   "source": [
    "<img src=\"./pictures/logo_sizinglab.png\" style=\"float:right; max-width: 60px; display: inline\" alt=\"SizingLab\" /></a>"
   ]
  },
  {
   "cell_type": "markdown",
   "metadata": {
    "slideshow": {
     "slide_type": "slide"
    }
   },
   "source": [
    "# Frame selection\n",
    "*Written by Marc Budinger (INSA Toulouse), Scott Delbecq (ISAE-SUPAERO) and Félix Pollet (ISAE-SUPAERO), Toulouse, France.*"
   ]
  },
  {
   "cell_type": "markdown",
   "metadata": {
    "slideshow": {
     "slide_type": "slide"
    }
   },
   "source": [
    "## Design graph \n",
    "\n",
    "The following diagram represents the design graph of the frame selection. \n",
    "\n",
    "\n",
    "![DesignGraph](./pictures/design_graphs/DesignGraphs_airframe.svg)\n",
    "\n",
    "\n",
    "The design graphs for the overall drone system can be found in [here](./pictures/design_graphs/DesignGraphs_Overall_Solution.pdf)."
   ]
  },
  {
   "cell_type": "markdown",
   "metadata": {},
   "source": [
    "### Sizing code and optimization\n"
   ]
  },
  {
   "cell_type": "code",
   "execution_count": null,
   "metadata": {},
   "outputs": [],
   "source": [
    "# Specifications\n",
    "N_arm=4.0#[-] Number of arms\n",
    "N_pro_arm=1.0#[-] Number of propellers per arm (1 or 2)\n",
    "\n",
    "# Reference parameters for scaling laws\n",
    "sigma_max = 280e6/4. # [Pa] Composite max stress (2 reduction for dynamic, 2 reduction for stress concentration)\n",
    "rho_s = 1700. # [kg/m3] Volumic mass of aluminum\n",
    "\n",
    "# Assumption\n",
    "D_pro=0.3#[m] Propeller diameter\n",
    "F_pro_to=1.0#[N] Thrust for one propeller during take off\n"
   ]
  },
  {
   "cell_type": "code",
   "execution_count": null,
   "metadata": {},
   "outputs": [],
   "source": [
    "#Design variables\n",
    "\n",
    "# -----------------------\n",
    "# equations\n",
    "# -----------------------\n",
    "# Length calculation   \n",
    "\n",
    "# Tube diameter & thickness\n",
    "\n",
    "# Mass\n"
   ]
  },
  {
   "cell_type": "code",
   "execution_count": null,
   "metadata": {},
   "outputs": [],
   "source": []
  }
 ],
 "metadata": {
  "kernelspec": {
   "display_name": "Python 3 (ipykernel)",
   "language": "python",
   "name": "python3"
  },
  "language_info": {
   "codemirror_mode": {
    "name": "ipython",
    "version": 3
   },
   "file_extension": ".py",
   "mimetype": "text/x-python",
   "name": "python",
   "nbconvert_exporter": "python",
   "pygments_lexer": "ipython3",
   "version": "3.8.12"
  }
 },
 "nbformat": 4,
 "nbformat_minor": 4
}
