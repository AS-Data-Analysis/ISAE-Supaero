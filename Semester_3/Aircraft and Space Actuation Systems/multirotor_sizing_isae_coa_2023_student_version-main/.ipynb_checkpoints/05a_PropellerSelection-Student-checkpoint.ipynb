{
 "cells": [
  {
   "cell_type": "markdown",
   "metadata": {
    "slideshow": {
     "slide_type": "slide"
    }
   },
   "source": [
    "<img src=\"./pictures/logo_sizinglab.png\" style=\"float:right; max-width: 60px; display: inline\" alt=\"SizingLab\" /></a>"
   ]
  },
  {
   "cell_type": "markdown",
   "metadata": {
    "slideshow": {
     "slide_type": "slide"
    }
   },
   "source": [
    "# Propeller selection\n",
    "*Written by Marc Budinger (INSA Toulouse), Scott Delbecq (ISAE-SUPAERO) and Félix Pollet (ISAE-SUPAERO), Toulouse, France.*"
   ]
  },
  {
   "cell_type": "markdown",
   "metadata": {
    "slideshow": {
     "slide_type": "slide"
    }
   },
   "source": [
    "## Design graph \n",
    "\n",
    "The following diagram represents the design graph of the propeller’s selection. The max thrust is assumed to be known here.\n",
    "\n",
    "\n",
    "![DesignGraph](./pictures/design_graphs/DesignGraphs_propeller_student.svg)\n",
    "\n",
    "> **Questions:**\n",
    "* Give the main sizing problems you are able to detect.\n",
    "* Propose one or multiple solutions (which can request equation manipulation, addition of design variables, addition of constraints) \n",
    "* Orientate the arrows\n",
    "* Give equations order, inputs/outputs at each step of this part of sizing procedure\n",
    "\n"
   ]
  },
  {
   "cell_type": "markdown",
   "metadata": {},
   "source": [
    "### Sizing code and optimization\n",
    "\n",
    "> **Exercise**: propose a sizing code for the selection of a propeller.\n"
   ]
  },
  {
   "cell_type": "code",
   "execution_count": 12,
   "metadata": {},
   "outputs": [],
   "source": [
    "import math as math\n",
    "\n",
    "# Specifications\n",
    "rho_air=1.18# [kg/m^3] Air density\n",
    "ND_max=105000./60.*.0254 #[Hz.m] Max speed limit (N.D max) for APC MR propellers\n",
    "\n",
    "# Reference parameters for scaling laws\n",
    "D_pro_ref=11.*.0254# [m] Reference propeller diameter\n",
    "M_pro_ref=0.53*0.0283# [kg] Reference propeller mass\n",
    "\n",
    "# Assumption\n",
    "\n",
    "F_pro_to=15.0 #[N] Thrust for 1 propeller during Take Off\n",
    "F_pro_hov=5.0 #[N] Thrust for 1 propeller during hover"
   ]
  },
  {
   "cell_type": "code",
   "execution_count": 13,
   "metadata": {},
   "outputs": [
    {
     "data": {
      "text/plain": [
       "0.006644043811856411"
      ]
     },
     "execution_count": 13,
     "metadata": {},
     "output_type": "execute_result"
    }
   ],
   "source": [
    "# Design variables\n",
    "KnD = 0.1 # Over-sizing coefficient\n",
    "beta = 1 # pitch/D\n",
    "\n",
    "#Equations:\n",
    "nD = ND_max/KnD\n",
    "\n",
    "# Propeller selection with take-off scenario\n",
    "Ct = 4.27e-02 + 1.44e-01 * beta\n",
    "Cp = -1.48e-03 + 9.72e-02 * beta\n",
    "\n",
    "D_pro = math.sqrt(F_pro_to/(Ct * rho_air * (ND_max/KnD**2)))\n",
    "\n",
    "M_pro = M_pro_ref * (D_pro/D_pro_ref)\n",
    "\n",
    "# Propeller torque & speed for hover\n",
    "P = Cp*rho_air*(nD)**3*D_pro**2\n",
    "n = nD/D_pro\n",
    "Omega = (2*math.pi/60)*n\n",
    "T = P/Omega\n",
    "M_pro"
   ]
  },
  {
   "cell_type": "code",
   "execution_count": null,
   "metadata": {},
   "outputs": [],
   "source": []
  }
 ],
 "metadata": {
  "kernelspec": {
   "display_name": "Python 3 (ipykernel)",
   "language": "python",
   "name": "python3"
  },
  "language_info": {
   "codemirror_mode": {
    "name": "ipython",
    "version": 3
   },
   "file_extension": ".py",
   "mimetype": "text/x-python",
   "name": "python",
   "nbconvert_exporter": "python",
   "pygments_lexer": "ipython3",
   "version": "3.8.12"
  }
 },
 "nbformat": 4,
 "nbformat_minor": 4
}
