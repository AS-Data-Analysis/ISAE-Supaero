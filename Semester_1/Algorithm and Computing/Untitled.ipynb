{
 "cells": [
  {
   "cell_type": "code",
   "execution_count": 17,
   "id": "3815dced",
   "metadata": {},
   "outputs": [],
   "source": [
    "from math import *\n",
    "from numpy import *\n",
    "from matplotlib.pyplot import *"
   ]
  },
  {
   "cell_type": "code",
   "execution_count": 28,
   "id": "dddca897",
   "metadata": {},
   "outputs": [],
   "source": [
    "x = linspace(0.001,0.01,100)\n",
    "y = -8.43-2.4*log(x)"
   ]
  },
  {
   "cell_type": "code",
   "execution_count": 29,
   "id": "a6532f7a",
   "metadata": {},
   "outputs": [
    {
     "data": {
      "text/plain": [
       "array([0.001     , 0.00109091, 0.00118182, 0.00127273, 0.00136364,\n",
       "       0.00145455, 0.00154545, 0.00163636, 0.00172727, 0.00181818,\n",
       "       0.00190909, 0.002     , 0.00209091, 0.00218182, 0.00227273,\n",
       "       0.00236364, 0.00245455, 0.00254545, 0.00263636, 0.00272727,\n",
       "       0.00281818, 0.00290909, 0.003     , 0.00309091, 0.00318182,\n",
       "       0.00327273, 0.00336364, 0.00345455, 0.00354545, 0.00363636,\n",
       "       0.00372727, 0.00381818, 0.00390909, 0.004     , 0.00409091,\n",
       "       0.00418182, 0.00427273, 0.00436364, 0.00445455, 0.00454545,\n",
       "       0.00463636, 0.00472727, 0.00481818, 0.00490909, 0.005     ,\n",
       "       0.00509091, 0.00518182, 0.00527273, 0.00536364, 0.00545455,\n",
       "       0.00554545, 0.00563636, 0.00572727, 0.00581818, 0.00590909,\n",
       "       0.006     , 0.00609091, 0.00618182, 0.00627273, 0.00636364,\n",
       "       0.00645455, 0.00654545, 0.00663636, 0.00672727, 0.00681818,\n",
       "       0.00690909, 0.007     , 0.00709091, 0.00718182, 0.00727273,\n",
       "       0.00736364, 0.00745455, 0.00754545, 0.00763636, 0.00772727,\n",
       "       0.00781818, 0.00790909, 0.008     , 0.00809091, 0.00818182,\n",
       "       0.00827273, 0.00836364, 0.00845455, 0.00854545, 0.00863636,\n",
       "       0.00872727, 0.00881818, 0.00890909, 0.009     , 0.00909091,\n",
       "       0.00918182, 0.00927273, 0.00936364, 0.00945455, 0.00954545,\n",
       "       0.00963636, 0.00972727, 0.00981818, 0.00990909, 0.01      ])"
      ]
     },
     "execution_count": 29,
     "metadata": {},
     "output_type": "execute_result"
    }
   ],
   "source": [
    "x"
   ]
  },
  {
   "cell_type": "code",
   "execution_count": 30,
   "id": "c3298d10",
   "metadata": {},
   "outputs": [
    {
     "data": {
      "text/plain": [
       "[<matplotlib.lines.Line2D at 0x1c494ecc700>]"
      ]
     },
     "execution_count": 30,
     "metadata": {},
     "output_type": "execute_result"
    },
    {
     "data": {
      "image/png": "[encoded data removed]",
      "text/plain": [
       "<Figure size 432x288 with 1 Axes>"
      ]
     },
     "metadata": {
      "needs_background": "light"
     },
     "output_type": "display_data"
    }
   ],
   "source": [
    "plot(x,y)"
   ]
  },
  {
   "cell_type": "code",
   "execution_count": null,
   "id": "508a69a4",
   "metadata": {},
   "outputs": [],
   "source": []
  }
 ],
 "metadata": {
  "kernelspec": {
   "display_name": "Python 3 (ipykernel)",
   "language": "python",
   "name": "python3"
  },
  "language_info": {
   "codemirror_mode": {
    "name": "ipython",
    "version": 3
   },
   "file_extension": ".py",
   "mimetype": "text/x-python",
   "name": "python",
   "nbconvert_exporter": "python",
   "pygments_lexer": "ipython3",
   "version": "3.8.8"
  }
 },
 "nbformat": 4,
 "nbformat_minor": 5
}
