{
 "cells": [
  {
   "cell_type": "markdown",
   "metadata": {
    "slideshow": {
     "slide_type": "slide"
    }
   },
   "source": [
    "<img src=\"./pictures/logo_sizinglab.png\" style=\"float:right; max-width: 60px; display: inline\" alt=\"INSA\" /></a>\n"
   ]
  },
  {
   "cell_type": "markdown",
   "metadata": {
    "slideshow": {
     "slide_type": "slide"
    }
   },
   "source": [
    "# Sizing of multi-rotor drones\n",
    "\n",
    "*This set of documents aims to provide an introduction on the use of Python and Jupyter notebooks for the sizing of multi-rotor drones.*\n",
    "\n",
    "*Written by Marc Budinger (INSA Toulouse), Scott Delbecq (ISAE-SUPAERO) and Félix Pollet (ISAE-SUPAERO), Toulouse, France.*\n"
   ]
  },
  {
   "cell_type": "markdown",
   "metadata": {
    "slideshow": {
     "slide_type": "slide"
    }
   },
   "source": [
    "### Table of contents\n",
    "\n",
    "##### Architecture & sizing scenarios\n",
    "1. [Case study and architecture presentation](01_CaseStudy.ipynb)\n",
    "2. [Sizing scenarios equations](02_SizingScenariosEquations.ipynb) ([Student Version](02_SizingScenariosEquations-Student.ipynb))\n",
    "\n",
    "##### Estimation models \n",
    "3. [Scaling laws of electrical components](03_ScalingLawsElectricalComponents.ipynb) ([Student Version](03_ScalingLawsElectricalComponents-Student.ipynb))\n",
    "4. [Linear regression of propellers data](04_PropellerLinearRegression.ipynb) ([Student Version](04_PropellerLinearRegression-Student.ipynb))\n",
    "\n",
    "##### Component sizing code  \n",
    "5. [Introduction](05_SizingModelsIntroduction.ipynb)  \n",
    "    a. [Propeller](05a_PropellerSelection-Student.ipynb)\n",
    "    \n",
    "    b. [Motor](05b_MotorSelection-Student.ipynb)\n",
    "    \n",
    "    c. [Battery and ESC](05c_BatteryESCSelection-Student.ipynb)\n",
    "    \n",
    "    d. [Frame](05d_FrameSelection-Student.ipynb)\n",
    "\n",
    "##### System sizing code and optimization  \n",
    "6. [Drone Sizing Code - Student Version](06_SystemSizingCodeOptimization-Student.ipynb)\n",
    "7. [Drone Evaluation and Optimization - Student Version](07_SystemEvaluationAndOptimization.ipynb)\n",
    "\n",
    "##### Appendices  \n",
    "A1. [Quadrotor description](A1_QuadroDescription.ipynb)\n",
    "\n",
    "A2. [Sizing scenarios synthesis](A2_Sizing_equations.ipynb)"
   ]
  },
  {
   "cell_type": "markdown",
   "metadata": {
    "slideshow": {
     "slide_type": "slide"
    }
   },
   "source": [
    "### Remarks\n",
    "\n",
    "This document has been written with Jupyter Notebook. The Jupyter Notebook is an open-source web application that allows you to create and share documents that contain live code, equations, visualizations and narrative text. \n",
    "\n",
    "More informations about Jupyter can be found [here](http://jupyter.org/).\n",
    "\n",
    "The \"live\" code is python 3 with numpy, scipy packages. Jupyter and a lot of scientific packages are included in the [Anaconda](https://www.anaconda.com/what-is-anaconda/) python distribution.\n",
    "\n",
    "To be sure that you have the correct dependencies you can run:\n",
    "\n",
    "*pip install -r requirements.txt*\n",
    "\n",
    "*pip install  --proxy=http://proxy.isae.fr:3128 -r requirements.txt* (sometimes necessary if connected to ISAE-SUPAERO network)\n",
    "\n",
    "The narrative text is formatting with markdown section. Here is a short tutorial about the use of the [markdown](http://www.markdowntutorial.com) standard.  \n",
    "\n",
    "[RISE](https://github.com/damianavila/RISE) allows you to instantly turn your Jupyter Notebooks into a slideshow.  \n",
    "[Pandoc](https://pandoc.org/) enables to [convert](https://mrjoe.uk/convert-markdown-to-word-document/) markdown file into word documents:  \n",
    "\n",
    "*pandoc -o output.docx -f markdown -t docx filename.md*\n",
    "\n",
    "\n"
   ]
  },
  {
   "cell_type": "code",
   "execution_count": null,
   "metadata": {},
   "outputs": [],
   "source": []
  }
 ],
 "metadata": {
  "kernelspec": {
   "display_name": "Python 3 (ipykernel)",
   "language": "python",
   "name": "python3"
  },
  "language_info": {
   "codemirror_mode": {
    "name": "ipython",
    "version": 3
   },
   "file_extension": ".py",
   "mimetype": "text/x-python",
   "name": "python",
   "nbconvert_exporter": "python",
   "pygments_lexer": "ipython3",
   "version": "3.8.12"
  }
 },
 "nbformat": 4,
 "nbformat_minor": 4
}
