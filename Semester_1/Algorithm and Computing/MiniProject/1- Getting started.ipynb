{
 "cells": [
  {
   "cell_type": "markdown",
   "metadata": {},
   "source": [
    "# Getting started"
   ]
  },
  {
   "cell_type": "markdown",
   "metadata": {},
   "source": [
    "---"
   ]
  },
  {
   "cell_type": "markdown",
   "metadata": {},
   "source": [
    "Everyone can learn how to program and the best way to learn is by doing. In this notebook you will be asked to write a lot of code. Click any block of code in this tutorial, such as the one above, and press ctrl+enter to run it. Let's begin right away and write our first little program!  "
   ]
  },
  {
   "cell_type": "code",
   "execution_count": 1,
   "metadata": {},
   "outputs": [
    {
     "name": "stdout",
     "output_type": "stream",
     "text": [
      "Ready, set, GO!\n"
     ]
    }
   ],
   "source": [
    "print(\"Ready, set, GO!\")"
   ]
  },
  {
   "cell_type": "markdown",
   "metadata": {},
   "source": [
    "----------"
   ]
  },
  {
   "cell_type": "markdown",
   "metadata": {},
   "source": [
    "In the code box below, write a simple program that calculates how many minutes there are in a day."
   ]
  },
  {
   "cell_type": "code",
   "execution_count": 2,
   "metadata": {},
   "outputs": [
    {
     "name": "stdout",
     "output_type": "stream",
     "text": [
      "number of minutes in a day :\n",
      "1440\n"
     ]
    }
   ],
   "source": [
    "# insert your code here\n",
    "nbMinutes = 24*60\n",
    "print(\"number of minutes in a day :\")\n",
    "print(nbMinutes)"
   ]
  },
  {
   "cell_type": "markdown",
   "metadata": {},
   "source": [
    "Great! You have written your first little program and you've done it without any help! \n",
    "\n",
    "This is an example of what can be done in a notebook. "
   ]
  },
  {
   "cell_type": "markdown",
   "metadata": {},
   "source": [
    "---------"
   ]
  },
  {
   "cell_type": "markdown",
   "metadata": {},
   "source": [
    "In this course, the notebooks will also be used to write code, but also to write text. \n",
    "To modify a cell, double-click on it. After the modification, press ctrl+enter.\n",
    "\n",
    "For example, could you write your names below ?\n",
    "\n",
    "Name student 1 : Akash\n",
    "\n",
    "Name student 2 : Sharma\n"
   ]
  },
  {
   "cell_type": "markdown",
   "metadata": {},
   "source": [
    "------"
   ]
  },
  {
   "cell_type": "markdown",
   "metadata": {},
   "source": [
    "To insert a cell, use the Jupyter menu (button [+]). There is two main types of cells : \n",
    "- Code cells, which contain Python code\n",
    "- Markdown cells, which contains text. To be more precise, this is not really text, but rather _Markdown_ text which allows to easily write nice text in HTML pages. A good description of the Markdown syntax can be found on http://commonmark.org/help/ . \n",
    "\n",
    "Insert a Code cell which computes the number of minutes in a year and print it. "
   ]
  },
  {
   "cell_type": "code",
   "execution_count": 4,
   "metadata": {},
   "outputs": [
    {
     "name": "stdout",
     "output_type": "stream",
     "text": [
      "number of minutes in a year : 525600\n"
     ]
    }
   ],
   "source": [
    "nbMinutes = 365*24*60\n",
    "print(\"number of minutes in a year :\",nbMinutes)"
   ]
  }
 ],
 "metadata": {
  "kernelspec": {
   "display_name": "Python 3",
   "language": "python",
   "name": "python3"
  },
  "language_info": {
   "codemirror_mode": {
    "name": "ipython",
    "version": 3
   },
   "file_extension": ".py",
   "mimetype": "text/x-python",
   "name": "python",
   "nbconvert_exporter": "python",
   "pygments_lexer": "ipython3",
   "version": "3.8.5"
  }
 },
 "nbformat": 4,
 "nbformat_minor": 1
}
