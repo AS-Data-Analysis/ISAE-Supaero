{
 "cells": [
  {
   "cell_type": "markdown",
   "metadata": {},
   "source": [
    "# MAE Optimization LAB\n",
    "\n",
    "## March 2022"
   ]
  },
  {
   "cell_type": "markdown",
   "metadata": {},
   "source": [
    "<div class=\"alert alert-danger\">\n",
    "Caution: execute the cells sequentially \n",
    "<div>"
   ]
  },
  {
   "cell_type": "markdown",
   "metadata": {},
   "source": [
    "<div class=\"alert alert-block alert-warning\">  Student Name:\n",
    "    \n",
    "    - First Name, Last Name:\n",
    "    \n",
    "    - First Name, Last Name:"
   ]
  },
  {
   "cell_type": "markdown",
   "metadata": {},
   "source": [
    "# Lab1 - Introduction to numerical linear algebra\n",
    "This document presents two exercises related to the use of the singular value decomposition (SVD) and the pseudo-inverse in two practical contexts. In particular, in this Lab,we will be interested to the following two applications:\n",
    "1.  Image compression using SVD.\n",
    "2.  Polynomial regression using experimental data."
   ]
  },
  {
   "cell_type": "markdown",
   "metadata": {},
   "source": [
    "## Exercise 1: Image compression using SVD\n",
    "In this exercise we will see how the singular value decomposition can be used to “compress” a graphical figure by representing the figure as a matrix and then using the singular value decomposition to find the closest matrix of lower rank to the original. This approach can form the basis of efficient compression methods."
   ]
  },
  {
   "cell_type": "markdown",
   "metadata": {},
   "source": [
    "### Imports:"
   ]
  },
  {
   "cell_type": "code",
   "execution_count": 2,
   "metadata": {},
   "outputs": [],
   "source": [
    "import numpy as np\n",
    "import matplotlib.image as mpimg\n",
    "import matplotlib.pyplot as plt\n",
    "import numpy.linalg as npl"
   ]
  },
  {
   "cell_type": "markdown",
   "metadata": {},
   "source": [
    "### Load, manipulate and display the image:"
   ]
  },
  {
   "cell_type": "markdown",
   "metadata": {},
   "source": [
    "This NASA photo comes from the Hubble telescope and presents a dramatic picture of this extra-galactic formation.\n",
    "\n",
    "![TarantulaNebula.jpg](TarantulaNebula.jpg)"
   ]
  },
  {
   "cell_type": "code",
   "execution_count": null,
   "metadata": {},
   "outputs": [],
   "source": [
    "nasa = mpimg.imread(\"TarantulaNebula.jpg\")\n",
    "print(nasa)"
   ]
  },
  {
   "cell_type": "markdown",
   "metadata": {},
   "source": [
    "<p class=\"bg-primary\" style=\"padding:1em\"> **Question 1):** Extract and comment the information relative to the nasa matrix: dimensions, min and max values of the elements,...</p> "
   ]
  },
  {
   "cell_type": "code",
   "execution_count": null,
   "metadata": {},
   "outputs": [],
   "source": [
    "print(nasa.ndim)\n",
    "print(nasa.min())\n",
    "print(nasa.max())"
   ]
  },
  {
   "cell_type": "code",
   "execution_count": null,
   "metadata": {},
   "outputs": [],
   "source": [
    "plt.imshow(nasa) \n",
    "plt.show()"
   ]
  },
  {
   "cell_type": "markdown",
   "metadata": {},
   "source": [
    "<div class=\"alert alert-block alert-warning\">  Answer:\n",
    "    "
   ]
  },
  {
   "cell_type": "markdown",
   "metadata": {},
   "source": [
    "We can also transform the rgb image into a greyscale image.  To simplify this exercise, turn the nasa image into a greyscale with ordinary double precision values 0-255 using the following commands:"
   ]
  },
  {
   "cell_type": "code",
   "execution_count": null,
   "metadata": {},
   "outputs": [],
   "source": [
    "#to sump up red+green+blue\n",
    "img_greyscale= nasa[:,:,0] + nasa[:,:,1] + nasa[:,:,2]\n",
    "#to find the max value\n",
    "m = np.max(img_greyscale)\n",
    "\n"
   ]
  },
  {
   "cell_type": "markdown",
   "metadata": {},
   "source": [
    "<p class=\"bg-primary\" style=\"padding:1em\"> **Question 2):** Display and comment the greyscale image using the python commands plt.imshow and plt.show </p> "
   ]
  },
  {
   "cell_type": "code",
   "execution_count": null,
   "metadata": {},
   "outputs": [],
   "source": [
    "plt.imshow(img_greyscale)\n",
    "plt.show()"
   ]
  },
  {
   "cell_type": "markdown",
   "metadata": {},
   "source": [
    "<div class=\"alert alert-block alert-warning\"> Response: \n",
    " </div>"
   ]
  },
  {
   "cell_type": "markdown",
   "metadata": {},
   "source": [
    "### Perform SVD decomposition"
   ]
  },
  {
   "cell_type": "markdown",
   "metadata": {},
   "source": [
    "#### SVD decomposition, the theorem\n",
    "\n",
    "Let $M$ a matrix of shape $m*n$ whose coefficients belongs to $K$, where $K = \\mathbb{R}$ or $K = \\mathbb{C}$. Then there exists a factorisation of the form : $M = U \\Sigma V^{*}$\n",
    "\n",
    "With $U$ a unitary matrix of size $m*m$ on $K$, $\\Sigma$ a $m*n$ matrix whose diagonal coefficients are positive or zero real numbers and all others are zero, and $V^{*}$ is the adjunct matrix of $V$, $n*n$ unitary matrix on $K$. We call this factorization: the singular value decomposition of $M$.\n",
    "\n",
    "The $V$ matrix contains a set of orthonormal basis vectors of $K^n$, called « left-singular vectors ».\n",
    "\n",
    "The $U$ matrix contains a set of orthonormal basis vectors of $K^n$, called « right-singular vectors ».\n",
    "\n",
    "The $\\Sigma$ matrix contains in its diagonal coefficients the singular values of the $M$ matrix, they correspond to the  roots of the eigenvalues of $M^*M$. The number of non-zero singular values is equal to the rank of $M$.\n",
    "\n",
    "As a convention we order $\\Sigma_{i,i}$ by decreasing order. Then, the $\\Sigma$ matrix is uniquely determined by $M$ (but $U$ and $V$ aren't)."
   ]
  },
  {
   "cell_type": "markdown",
   "metadata": {},
   "source": [
    "<p class=\"bg-primary\" style=\"padding:1em\"> **Question 3):** Using the Python command npl.svd, perform the SVD decomposition of the greyscale image by using the `svd` command from the numpy linear algrebra library. Check the dimensions of the decomposition outputs</p> \n",
    "See the documentation here: <a href=\"https://numpy.org/doc/stable/reference/generated/numpy.linalg.svd.html\" > https://numpy.org/doc/stable/reference/generated/numpy.linalg.svd.html </a>"
   ]
  },
  {
   "cell_type": "code",
   "execution_count": null,
   "metadata": {},
   "outputs": [],
   "source": [
    "#\n",
    "# Apply the SVD to the img_greyscale \n",
    "#\n",
    "U, s, Vt = np.linalg.svd(img_greyscale, full_matrices=True)"
   ]
  },
  {
   "cell_type": "code",
   "execution_count": null,
   "metadata": {},
   "outputs": [],
   "source": [
    "print(U)\n",
    "print(np.shape(U))"
   ]
  },
  {
   "cell_type": "code",
   "execution_count": null,
   "metadata": {},
   "outputs": [],
   "source": [
    "print(s)\n",
    "print(np.shape(s))"
   ]
  },
  {
   "cell_type": "code",
   "execution_count": null,
   "metadata": {},
   "outputs": [],
   "source": [
    "print(Vt)\n",
    "print(np.shape(Vt))"
   ]
  },
  {
   "cell_type": "markdown",
   "metadata": {},
   "source": [
    "<div class=\"alert alert-block alert-warning\"> Response:\n",
    "    \n",
    " </div>"
   ]
  },
  {
   "cell_type": "markdown",
   "metadata": {},
   "source": [
    "<p class=\"bg-primary\" style=\"padding:1em\"> **Question 4):** Plot the singular values on a semilog scale. Comment the obtained plot. </p>"
   ]
  },
  {
   "cell_type": "code",
   "execution_count": null,
   "metadata": {},
   "outputs": [],
   "source": [
    "plt.semilogy(s,'*')"
   ]
  },
  {
   "cell_type": "markdown",
   "metadata": {},
   "source": [
    "<div class=\"alert alert-block alert-warning\"> Response:\n",
    " </div>"
   ]
  },
  {
   "cell_type": "markdown",
   "metadata": {},
   "source": [
    "### Reconstruction of the image using some of the singular values:"
   ]
  },
  {
   "cell_type": "markdown",
   "metadata": {},
   "source": [
    "<p class=\"bg-primary\" style=\"padding:1em\"> **Question 5):** The objective now is to reconstruct different images based matrices with lower rank as the initial nasa matrix. </p>"
   ]
  },
  {
   "cell_type": "markdown",
   "metadata": {},
   "source": [
    "Compare three recomposed matrices\n",
    "\n",
    "- using the 100 first elements\n",
    "- using the 50 first elements\n",
    "- using the 25 first elements\n",
    "\n",
    "Plot the associated images and comment the obtained images."
   ]
  },
  {
   "cell_type": "code",
   "execution_count": null,
   "metadata": {},
   "outputs": [],
   "source": [
    "#First we will construct the S matrix from the s vector (which corresponds to the diagonal terms)\n",
    "S = np.zeros(np.shape(img_greyscale))\n",
    "print('size of the s vector ', min(np.shape(img_greyscale)))\n",
    "S[:min(np.shape(img_greyscale)),:min(np.shape(img_greyscale))]=np.diag(s)\n",
    "print( 'matrix S', S)"
   ]
  },
  {
   "cell_type": "markdown",
   "metadata": {},
   "source": [
    "The first step is to check the decomposition \n"
   ]
  },
  {
   "cell_type": "code",
   "execution_count": null,
   "metadata": {},
   "outputs": [],
   "source": [
    "img_greyscale_recomposed = U.dot(S.dot(Vt))"
   ]
  },
  {
   "cell_type": "code",
   "execution_count": null,
   "metadata": {},
   "outputs": [],
   "source": [
    "plt.imshow(img_greyscale_recomposed, cmap='gray')\n",
    "plt.title('Reconstructed full SVD')\n",
    "plt.show()\n"
   ]
  },
  {
   "cell_type": "code",
   "execution_count": null,
   "metadata": {},
   "outputs": [],
   "source": [
    "nasa100 = #to complete\n",
    "print(nasa100.shape)"
   ]
  },
  {
   "cell_type": "code",
   "execution_count": null,
   "metadata": {},
   "outputs": [],
   "source": [
    "#to do for 50 elements\n",
    "nasa50 = #to complete"
   ]
  },
  {
   "cell_type": "code",
   "execution_count": null,
   "metadata": {},
   "outputs": [],
   "source": [
    "#to do for 25 elements\n",
    "nasa25 = #to complete"
   ]
  },
  {
   "cell_type": "code",
   "execution_count": null,
   "metadata": {},
   "outputs": [],
   "source": [
    "plt.imshow(nasa100, cmap='gray')\n",
    "plt.title('Reconstructed SVD: nasa 100')\n",
    "plt.show()"
   ]
  },
  {
   "cell_type": "code",
   "execution_count": null,
   "metadata": {},
   "outputs": [],
   "source": [
    "plt.imshow(nasa50, cmap='gray')\n",
    "plt.title('Reconstructed SVD: nasa 50')\n",
    "plt.show()"
   ]
  },
  {
   "cell_type": "code",
   "execution_count": null,
   "metadata": {
    "scrolled": true
   },
   "outputs": [],
   "source": [
    "plt.imshow(nasa25, cmap='gray')\n",
    "plt.title('Reconstructed SVD: nasa 25')\n",
    "plt.show()\n",
    "\n",
    "s_95_percent = s[:442]"
   ]
  },
  {
   "cell_type": "markdown",
   "metadata": {},
   "source": [
    "<div class=\"alert alert-block alert-warning\"> Response: \n",
    "    </div>"
   ]
  },
  {
   "cell_type": "markdown",
   "metadata": {},
   "source": [
    "<p class=\"bg-primary\" style=\"padding:1em\"> **Question 6): Comment on the quality of the images versus the memory requirement.\n",
    "Explain the importance of the SVD for image compression. </p>"
   ]
  },
  {
   "cell_type": "markdown",
   "metadata": {},
   "source": [
    "<div class=\"alert alert-block alert-warning\"> Response:\n",
    "\n",
    " </div>"
   ]
  },
  {
   "cell_type": "markdown",
   "metadata": {},
   "source": [
    "We compare three recomposed matrices\n",
    "\n",
    "- using  all the singumar values\n",
    "- using half of the singular values\n",
    "- using the singular values greater than  a threshold value \n",
    "- using the singular values to keep a % value of the total energy\n",
    "\n",
    "Plot the associated images and comment the obtained images."
   ]
  },
  {
   "cell_type": "markdown",
   "metadata": {},
   "source": [
    "#### Using all singular values:"
   ]
  },
  {
   "cell_type": "code",
   "execution_count": null,
   "metadata": {},
   "outputs": [],
   "source": [
    "# Construct the S matrix from the s vector.\n",
    "S = np.zeros(np.shape(img_greyscale))\n",
    "print(min(np.shape(img_greyscale)))\n",
    "S[:min(np.shape(img_greyscale)),:min(np.shape(img_greyscale))]=np.diag(s)\n",
    "print(S)\n",
    "img_greyscale_rec = U.dot(S.dot(Vt))"
   ]
  },
  {
   "cell_type": "markdown",
   "metadata": {},
   "source": [
    "Display the reconstructed greyscale image using all singular values:"
   ]
  },
  {
   "cell_type": "code",
   "execution_count": null,
   "metadata": {},
   "outputs": [],
   "source": [
    "plt.imshow(img_greyscale_rec, cmap='gray')\n",
    "plt.show()"
   ]
  },
  {
   "cell_type": "markdown",
   "metadata": {},
   "source": [
    "#### Using half of the singular values:"
   ]
  },
  {
   "cell_type": "code",
   "execution_count": null,
   "metadata": {},
   "outputs": [],
   "source": [
    "# Construct the S matrix from the s vector with half of the singular values\n",
    "#to do"
   ]
  },
  {
   "cell_type": "markdown",
   "metadata": {},
   "source": [
    "Display the reconstructed greyscale image using half of the singular values:"
   ]
  },
  {
   "cell_type": "code",
   "execution_count": null,
   "metadata": {},
   "outputs": [],
   "source": [
    "plt.imshow(img_greyscale_rec, cmap='gray')\n",
    "plt.show()"
   ]
  },
  {
   "cell_type": "markdown",
   "metadata": {},
   "source": [
    "#### Using the singular values greater than 1 (thresholding):"
   ]
  },
  {
   "cell_type": "code",
   "execution_count": null,
   "metadata": {},
   "outputs": [],
   "source": [
    "def vector_thresholding(s, threshold):\n",
    "    for i in range(len(s)):\n",
    "        if s[i]<threshold :\n",
    "            return s[:i]\n",
    "        if s[i]>threshold and i == len(s)-1:\n",
    "            return s\n",
    "\n",
    "s_thresholded = vector_thresholding(s, 1)"
   ]
  },
  {
   "cell_type": "code",
   "execution_count": null,
   "metadata": {},
   "outputs": [],
   "source": [
    "# Construct the S matrix from the s vector susing the threshold function \n",
    "#to do\n"
   ]
  },
  {
   "cell_type": "code",
   "execution_count": null,
   "metadata": {},
   "outputs": [],
   "source": [
    "plt.imshow(img_greyscale_rec, cmap='gray')\n",
    "plt.show()"
   ]
  },
  {
   "cell_type": "markdown",
   "metadata": {},
   "source": [
    "<p class=\"bg-primary\" style=\"padding:1em\"> **Question 7): Create a similar code to keep 95% of the energy (given by the trace of the $\\Sigma$ matrix). How many terms are kept? </p>"
   ]
  },
  {
   "cell_type": "code",
   "execution_count": null,
   "metadata": {},
   "outputs": [],
   "source": [
    "#write the code and plot the resulting image"
   ]
  },
  {
   "cell_type": "markdown",
   "metadata": {},
   "source": [
    "<div class=\"alert alert-block alert-warning\"> Response:\n",
    "\n",
    " </div>"
   ]
  },
  {
   "cell_type": "markdown",
   "metadata": {},
   "source": [
    "## Exercise 2: Polynomial regression using experimental data"
   ]
  },
  {
   "cell_type": "markdown",
   "metadata": {},
   "source": [
    "For this exercise, we will make use of `trajectory.data` file with data from the trajectory of Toulouse-Paris flight. Each row in the file has 4 informations related to the position $x$, $y$ and $z$ and the time $t$. The data in the file `trajectory.dat` can be extracted using Python. Once this instruction is executed, you will obtain a matrix with 4 columns."
   ]
  },
  {
   "cell_type": "markdown",
   "metadata": {},
   "source": [
    "Load the `trajectory.data` file:"
   ]
  },
  {
   "cell_type": "code",
   "execution_count": 3,
   "metadata": {},
   "outputs": [
    {
     "name": "stdout",
     "output_type": "stream",
     "text": [
      "[[ 1.12421956e+05 -3.76620868e+05  6.85800000e+02  0.00000000e+00]\n",
      " [ 1.09962500e+05 -3.85679000e+05  2.84988000e+03  1.78156999e+02]\n",
      " [ 1.07764176e+05 -3.83739956e+05  3.04800000e+03  2.00391000e+02]\n",
      " [ 1.02786000e+05 -3.54107956e+05  4.64820000e+03  3.65430000e+02]\n",
      " [ 1.02380412e+05 -3.51387368e+05  4.86156000e+03  3.79649000e+02]\n",
      " [ 1.00500632e+05 -3.17155000e+05  6.54558000e+03  5.43664000e+02]\n",
      " [ 1.00209868e+05 -3.12293500e+05  6.72084000e+03  5.66171999e+02]\n",
      " [ 9.82708240e+04 -2.77568500e+05  8.37438000e+03  7.22828000e+02]\n",
      " [ 9.80115440e+04 -2.72908868e+05  8.59536000e+03  7.45344000e+02]\n",
      " [ 9.61891760e+04 -2.39719176e+05  9.74598000e+03  9.00976999e+02]\n",
      " [ 9.59854560e+04 -2.35781824e+05  9.75360000e+03  9.19485000e+02]\n",
      " [ 9.39315880e+04 -1.98308456e+05  9.75360000e+03  1.08023500e+03]\n",
      " [ 9.36130440e+04 -1.93071000e+05  9.74598000e+03  1.10275000e+03]\n",
      " [ 9.26296320e+04 -1.73595368e+05  9.74598000e+03  1.18618800e+03]\n",
      " [ 9.16443680e+04 -1.56551412e+05  9.74598000e+03  1.25858600e+03]\n",
      " [ 9.13258240e+04 -1.51343588e+05  9.74598000e+03  1.28114900e+03]\n",
      " [ 9.00238680e+04 -1.26254544e+05  9.75360000e+03  1.38871100e+03]\n",
      " [ 8.93590000e+04 -1.14535088e+05  9.75360000e+03  1.43870400e+03]\n",
      " [ 8.92441760e+04 -1.12857176e+05  9.75360000e+03  1.44583600e+03]\n",
      " [ 8.89830440e+04 -1.08516088e+05  9.75360000e+03  1.46418800e+03]\n",
      " [ 8.74199560e+04 -7.94045000e+04  9.75360000e+03  1.58832100e+03]\n",
      " [ 8.68995440e+04 -7.08093680e+04  9.74598000e+03  1.62408600e+03]\n",
      " [ 8.65235880e+04 -6.36921320e+04  9.74598000e+03  1.65501600e+03]\n",
      " [ 8.49605000e+04 -3.53898680e+04  9.60120000e+03  1.77462500e+03]\n",
      " [ 8.45549120e+04 -2.86485880e+04  9.47928000e+03  1.80324300e+03]\n",
      " [ 8.35715000e+04 -1.07064120e+04  9.09828000e+03  1.87903900e+03]\n",
      " [ 8.28195880e+04  2.37241200e+03  8.54202000e+03  1.93312500e+03]\n",
      " [ 8.23843680e+04  1.12268240e+04  8.30580000e+03  1.97011000e+03]\n",
      " [ 8.22121320e+04  1.40918680e+04  8.20674000e+03  1.98142200e+03]\n",
      " [ 8.41789560e+04  4.25385880e+04  7.92480000e+03  2.10202400e+03]\n",
      " [ 8.80274120e+04  5.60804120e+04  7.39902000e+03  2.16043800e+03]\n",
      " [ 8.85478240e+04  5.78453680e+04  7.31520000e+03  2.16875800e+03]\n",
      " [ 8.93293680e+04  6.04215000e+04  7.11708000e+03  2.18038300e+03]\n",
      " [ 9.74040880e+04  8.82885440e+04  5.50926000e+03  2.30966400e+03]\n",
      " [ 9.94579560e+04  9.53483680e+04  5.22732000e+03  2.34310200e+03]\n",
      " [ 1.00702500e+05  9.94875880e+04  5.02158000e+03  2.36389900e+03]\n",
      " [ 1.04060176e+05  1.11177412e+05  4.54914000e+03  2.42036800e+03]\n",
      " [ 1.11351500e+05  1.31029000e+05  3.74904000e+03  2.52242200e+03]\n",
      " [ 1.11727456e+05  1.31549412e+05  3.70332000e+03  2.52583600e+03]\n",
      " [ 1.15864824e+05  1.37916588e+05  3.41376000e+03  2.56344600e+03]\n",
      " [ 1.27093500e+05  1.55249456e+05  3.35280000e+03  2.66850800e+03]\n",
      " [ 1.31086412e+05  1.61412912e+05  3.35280000e+03  2.70471900e+03]\n",
      " [ 1.34501500e+05  1.66680000e+05  3.35280000e+03  2.73669600e+03]\n",
      " [ 1.37685088e+05  1.71541500e+05  3.34518000e+03  2.76596900e+03]\n",
      " [ 1.60718412e+05  1.76258544e+05  3.35280000e+03  2.88786000e+03]\n",
      " [ 1.66129956e+05  1.76953044e+05  3.35280000e+03  2.91565700e+03]\n",
      " [ 1.71743368e+05  1.77704956e+05  3.34518000e+03  2.94472700e+03]\n",
      " [ 1.75302912e+05  1.78979132e+05  3.26136000e+03  2.96538300e+03]\n",
      " [ 1.90668956e+05  1.86270456e+05  2.50698000e+03  3.06724300e+03]\n",
      " [ 2.02764368e+05  1.91943132e+05  1.49352000e+03  3.15267200e+03]\n",
      " [ 2.03112544e+05  1.92319088e+05  1.49352000e+03  3.15557100e+03]\n",
      " [ 2.03921868e+05  1.93476588e+05  1.43256000e+03  3.16384400e+03]\n",
      " [ 2.00334544e+05  2.01347588e+05  1.21158000e+03  3.23732100e+03]\n",
      " [ 1.88933632e+05  1.98656632e+05  7.62000000e+02  3.35928900e+03]\n",
      " [ 1.88498412e+05  1.98539956e+05  7.39140000e+02  3.36364100e+03]\n",
      " [ 1.85633368e+05  1.97643588e+05  6.01980000e+02  3.39548500e+03]\n",
      " [ 1.83290588e+05  1.96862044e+05  4.80060000e+02  3.42478200e+03]\n",
      " [ 1.75506632e+05  1.94460000e+05  6.09600000e+01  3.54157100e+03]\n",
      " [ 1.74551000e+05  1.94111824e+05  6.85800000e+01  3.56745400e+03]]\n"
     ]
    }
   ],
   "source": [
    "f = open(\"trajectory.dat\",\"r\")\n",
    "li = [ ln.split() for ln in f ]\n",
    "f.close()\n",
    "tableau = np.array(li)\n",
    "\n",
    "trajectory=np.zeros(np.shape(tableau))\n",
    "for i in range(np.shape(tableau)[0]):\n",
    "    for j in range(np.shape(tableau)[1]):\n",
    "        trajectory[i,j]=float(tableau[i,j])\n",
    "        #print(type(float(tableau[i,j])))\n",
    "        \n",
    "print(trajectory)"
   ]
  },
  {
   "cell_type": "markdown",
   "metadata": {},
   "source": [
    "Here is an example where we plot the vertical profile of the flight  ($z$ coordinate) with respect to the time $t$."
   ]
  },
  {
   "cell_type": "code",
   "execution_count": 4,
   "metadata": {},
   "outputs": [
    {
     "data": {
      "image/png": "[encoded data removed]",
      "text/plain": [
       "<Figure size 432x288 with 1 Axes>"
      ]
     },
     "metadata": {
      "needs_background": "light"
     },
     "output_type": "display_data"
    }
   ],
   "source": [
    "x = trajectory[:, 0]\n",
    "y = trajectory[:, 1]\n",
    "z = trajectory[:, 2]\n",
    "t = trajectory[:, 3]\n",
    "\n",
    "plt.plot(t, z, '*')\n",
    "plt.xlabel('time')\n",
    "plt.ylabel('Vertical profile')\n",
    "plt.title('Initial profile')\n",
    "plt.show()"
   ]
  },
  {
   "cell_type": "markdown",
   "metadata": {},
   "source": [
    "Let $t= [t_1, t_2, ..., t_m] \\in \\mathbb{R}^m$ the vector time and $z = [z_1, z_2, ..., z_m] \\in \\mathbb{R}^m$ a vector of observations. We aim to find the equation of a linear model with the best fitting.\n",
    "\n",
    "In this lab, we choose a polynomial model of the form $$z(t) = \\Sigma_{j=1}^n p_j t^{j−1}$$\n",
    "\n",
    "The  parameters $p = [p_1, p_2, ..., p_n] \\in \\mathbb{R}^n$ are  obtained  by  solving  the  following  least-squares problem $$\\min_{p \\in \\mathbb{R}^n} \\mid\\mid Rp−z\\mid\\mid^2$$\n",
    "\n",
    "where $R = \\begin{bmatrix} 1 & t_1 & t_1^2 & ... & t_1^{n-1} \\\\ 1 & t_2 & t_2^2 & ... & t_2^{n-1} \\\\  \\vdots &  \\vdots &  \\vdots &  \\ddots &  \\\\ 1 & t_m & t_m^2 & ... & t_m^{n-1} \\end{bmatrix} \\in \\mathbb{R}^{m×n}$.\n",
    "\n",
    "The solution $p^* = [p^∗_1, p^∗_2, ..., p^∗_n]$ of such minimization problem is given by \n",
    "$$p^∗ = R^+ z$$ \n",
    "where $R^+$ is the pseudo-inverse of $R$. "
   ]
  },
  {
   "cell_type": "markdown",
   "metadata": {},
   "source": [
    "As a first test scenario, we choose $m = n = 6$."
   ]
  },
  {
   "cell_type": "code",
   "execution_count": 5,
   "metadata": {},
   "outputs": [],
   "source": [
    "m = 6\n",
    "n = 6"
   ]
  },
  {
   "cell_type": "code",
   "execution_count": 6,
   "metadata": {},
   "outputs": [],
   "source": [
    "#we extract m components for t and z\n",
    "z = trajectory[:m, 2]\n",
    "t = trajectory[:m, 3]"
   ]
  },
  {
   "cell_type": "code",
   "execution_count": 7,
   "metadata": {},
   "outputs": [
    {
     "data": {
      "image/png": "[encoded data removed]",
      "text/plain": [
       "<Figure size 432x288 with 1 Axes>"
      ]
     },
     "metadata": {
      "needs_background": "light"
     },
     "output_type": "display_data"
    }
   ],
   "source": [
    "plt.plot(t, z, '*')\n",
    "plt.xlabel('time')\n",
    "plt.ylabel('Vertical profile')\n",
    "plt.title('Extracted profile with m= %d' %m )\n",
    "plt.show()"
   ]
  },
  {
   "cell_type": "markdown",
   "metadata": {},
   "source": [
    "Build the $R$ matrix:"
   ]
  },
  {
   "cell_type": "code",
   "execution_count": 12,
   "metadata": {},
   "outputs": [
    {
     "name": "stdout",
     "output_type": "stream",
     "text": [
      "[[1.00000000e+00 0.00000000e+00 0.00000000e+00 0.00000000e+00\n",
      "  0.00000000e+00 0.00000000e+00]\n",
      " [1.00000000e+00 1.78156999e+02 3.17399163e+04 5.65468824e+06\n",
      "  1.00742229e+09 1.79479331e+11]\n",
      " [1.00000000e+00 2.00391000e+02 4.01565529e+04 8.04701179e+06\n",
      "  1.61254874e+09 3.23140254e+11]\n",
      " [1.00000000e+00 3.65430000e+02 1.33539085e+05 4.87991878e+07\n",
      "  1.78326872e+10 6.51659888e+12]\n",
      " [1.00000000e+00 3.79649000e+02 1.44133363e+05 5.47200872e+07\n",
      "  2.07744264e+10 7.88699020e+12]\n",
      " [1.00000000e+00 5.43664000e+02 2.95570545e+05 1.60691065e+08\n",
      "  8.73619470e+10 4.74955456e+13]]\n"
     ]
    }
   ],
   "source": [
    "R = np.zeros((m,n))\n",
    "for i in range(m):\n",
    "    for j in range(n):\n",
    "        R[i,j] = t[i]**(j)\n",
    "print(R)"
   ]
  },
  {
   "cell_type": "markdown",
   "metadata": {},
   "source": [
    "Compute $R^+$ the pseudo-inverse of $R$ using the `pinv` command from the numpy linear algrebra library and deduce the solution $p^*$:"
   ]
  },
  {
   "cell_type": "code",
   "execution_count": 9,
   "metadata": {},
   "outputs": [
    {
     "name": "stdout",
     "output_type": "stream",
     "text": [
      "p*= [ 6.85794887e+02  5.67102006e+00  1.37550336e-01 -9.04412893e-04\n",
      "  2.20884304e-06 -1.80052646e-09]\n"
     ]
    }
   ],
   "source": [
    "Rpinv = npl.pinv(R)\n",
    "p_with_pinv = Rpinv.dot(z)\n",
    "print('p*=', p_with_pinv)"
   ]
  },
  {
   "cell_type": "markdown",
   "metadata": {},
   "source": [
    "<div class=\"alert alert-block alert-warning\">\n",
    "Actually we $\\textbf{never}$ compute the inverse or the pseudo inverse to find the solution. Indeed, it can really be computationnaly expensive. In practice we prefer to solve a linear system. \n",
    "\n",
    "To determine the linear system that we have to solve, we compute the gradient of the objective and we write the equation \"gradient of the objective equals 0\" . In the case of a linear least squares problem of the form \n",
    "    $$min_{p \\in \\mathbb{R}^n} \\mid\\mid Rp−z\\mid\\mid^2$$ \n",
    "    that methodology leads to the so called $\\textbf{normal equations}$: $$R^t R p = R^t z$$ where \n",
    "\n",
    "Python allows us to solve a linear system using the \"numpy.linalg.solve()\" function.\n",
    "    </div>"
   ]
  },
  {
   "cell_type": "code",
   "execution_count": 10,
   "metadata": {},
   "outputs": [
    {
     "name": "stdout",
     "output_type": "stream",
     "text": [
      "p* with linear system [ 6.85800000e+02  5.67018854e+00  1.37561178e-01 -9.04460536e-04\n",
      "  2.20893038e-06 -1.80058280e-09]\n"
     ]
    }
   ],
   "source": [
    "Rt=np.transpose(R)\n",
    "p_linear_syst = npl.solve(Rt.dot(R), Rt.dot(z))\n",
    "print('p* with linear system',p_linear_syst)"
   ]
  },
  {
   "cell_type": "markdown",
   "metadata": {},
   "source": [
    "Compute the error between the 2 solutions:"
   ]
  },
  {
   "cell_type": "code",
   "execution_count": 11,
   "metadata": {},
   "outputs": [
    {
     "name": "stdout",
     "output_type": "stream",
     "text": [
      "error due to the inverse method 0.005180374962636902\n"
     ]
    }
   ],
   "source": [
    "error = npl.norm(p_with_pinv - p_linear_syst, 2) \n",
    "print('error due to the inverse method', error)"
   ]
  },
  {
   "cell_type": "markdown",
   "metadata": {},
   "source": [
    "We will now try to plot the reconstructed trajectory based on the chosen parameters ($m$ and $n$) \n",
    "\n",
    "First, we need to discretize the new space defined by the $m$ extracted points. $q$ points uniformly distributed between $t(0)$ and $t(m-1)$ will be defined.\n",
    "\n",
    "Let $q=200$ and let $$\\tilde{t} =[\\tilde{t_1}, \\tilde{t_2}, ..., \\tilde{t_q}] $$ \n",
    "where $\\tilde{t_i} = t_1 + \\frac{(i-1)(t_m -t_1)}{q-1}$.\n",
    "\n"
   ]
  },
  {
   "cell_type": "code",
   "execution_count": 13,
   "metadata": {},
   "outputs": [],
   "source": [
    "#Compute $\\tilde{t}$.\n",
    "q=200\n",
    "t_tilde = np.linspace(t[0], t[m-1], q)\n"
   ]
  },
  {
   "cell_type": "markdown",
   "metadata": {},
   "source": [
    "Then we need to compute the $\\tilde z$ associated to the $\\tilde t$\n",
    "\n",
    "Compute $\\tilde z = z(\\tilde{t_i}) \\forall i \\in {1,...q}$ using the parameters of the polynomial approximation computed above"
   ]
  },
  {
   "cell_type": "code",
   "execution_count": 14,
   "metadata": {},
   "outputs": [],
   "source": [
    "#first compute R_tilde:\n",
    "R_tilde = np.zeros((q,n))\n",
    "for i in range(q):\n",
    "    for j in range(n):\n",
    "        R_tilde[i,j] = t_tilde[i]**j\n",
    "    \n",
    "# use the polynomial approximation to compute z_tilde :\n",
    "z_tilde = R_tilde.dot(p_with_pinv)\n"
   ]
  },
  {
   "cell_type": "markdown",
   "metadata": {},
   "source": [
    "Display on the same figure the two curves: \n",
    "- $z$ with respect to $t$ \n",
    "- $\\tilde z $ with respect to $\\tilde t$."
   ]
  },
  {
   "cell_type": "code",
   "execution_count": 15,
   "metadata": {},
   "outputs": [
    {
     "data": {
      "image/png": "[encoded data removed]",
      "text/plain": [
       "<Figure size 432x288 with 1 Axes>"
      ]
     },
     "metadata": {
      "needs_background": "light"
     },
     "output_type": "display_data"
    }
   ],
   "source": [
    "plt.figure()\n",
    "plt.plot(t, z, '*',color='r', label='initial observations')\n",
    "plt.plot(t_tilde, z_tilde, color='g', label='polynomial regression')\n",
    "plt.title('Comparisons for with m= %d and n = %d' % (m, n))\n",
    "plt.legend()\n",
    "plt.show()"
   ]
  },
  {
   "cell_type": "code",
   "execution_count": 19,
   "metadata": {},
   "outputs": [
    {
     "name": "stdout",
     "output_type": "stream",
     "text": [
      "error due to the inverse method 657.3132513048852\n"
     ]
    },
    {
     "data": {
      "image/png": "[encoded data removed]",
      "text/plain": [
       "<Figure size 432x288 with 1 Axes>"
      ]
     },
     "metadata": {
      "needs_background": "light"
     },
     "output_type": "display_data"
    },
    {
     "name": "stdout",
     "output_type": "stream",
     "text": [
      "error due to the inverse method 382.21223569145855\n"
     ]
    },
    {
     "data": {
      "image/png": "[encoded data removed]",
      "text/plain": [
       "<Figure size 432x288 with 1 Axes>"
      ]
     },
     "metadata": {
      "needs_background": "light"
     },
     "output_type": "display_data"
    },
    {
     "name": "stdout",
     "output_type": "stream",
     "text": [
      "error due to the inverse method 988.8691471229027\n"
     ]
    },
    {
     "data": {
      "image/png": "[encoded data removed]",
      "text/plain": [
       "<Figure size 432x288 with 1 Axes>"
      ]
     },
     "metadata": {
      "needs_background": "light"
     },
     "output_type": "display_data"
    },
    {
     "name": "stdout",
     "output_type": "stream",
     "text": [
      "error due to the inverse method 770.3221362503922\n"
     ]
    },
    {
     "data": {
      "image/png": "[encoded data removed]",
      "text/plain": [
       "<Figure size 432x288 with 1 Axes>"
      ]
     },
     "metadata": {
      "needs_background": "light"
     },
     "output_type": "display_data"
    },
    {
     "name": "stdout",
     "output_type": "stream",
     "text": [
      "error due to the inverse method 666.5883094462077\n"
     ]
    },
    {
     "data": {
      "image/png": "[encoded data removed]",
      "text/plain": [
       "<Figure size 432x288 with 1 Axes>"
      ]
     },
     "metadata": {
      "needs_background": "light"
     },
     "output_type": "display_data"
    }
   ],
   "source": [
    "list_MN = [(50,6),(50,7), (50,8), (50,9), (50,10)]\n",
    "for m,n in list_MN:\n",
    "    z = trajectory[:m, 2]\n",
    "    t = trajectory[:m, 3]\n",
    "    R = np.zeros((m,n))\n",
    "\n",
    "    for i in range(m):\n",
    "        for j in range(n):\n",
    "            R[i,j] = t[i]**j\n",
    "\n",
    "    Rpinv = npl.pinv(R)\n",
    "    p_with_pinv = Rpinv.dot(z)\n",
    "    Rt=np.transpose(R)\n",
    "    p_linear_syst = npl.solve(Rt.dot(R), Rt.dot(z))\n",
    "    error = npl.norm(p_with_pinv - p_linear_syst, 2)\n",
    "    print('error due to the inverse method', error)\n",
    "    q=200\n",
    "    t_tilde = np.linspace(t[0], t[m-1], q)\n",
    "    R_tilde = np.zeros((q,n))\n",
    "    for i in range(q):\n",
    "        for j in range(n):\n",
    "            R_tilde[i,j] = t_tilde[i]**j\n",
    "    \n",
    "# use the polynomial approximation to compute z_tilde :\n",
    "    z_tilde = R_tilde.dot(p_with_pinv)\n",
    "    plt.figure()\n",
    "    plt.plot(t, z, '*',color='r', label='initial observations')\n",
    "    plt.plot(t_tilde, z_tilde, color='g', label='polynomial regression')\n",
    "    plt.title('Comparisons for with m= %d and n = %d' % (m, n))\n",
    "    plt.legend()\n",
    "    plt.show()"
   ]
  },
  {
   "cell_type": "markdown",
   "metadata": {},
   "source": [
    "<p class=\"bg-primary\" style=\"padding:1em\"> **Question 8):** Try different values for $m$ and $n$. Comment the obtained results using the following cases:\n",
    "    \n",
    "a) $m=10$, $n=6$\n",
    "\n",
    "b) $m=20$, $n=6$\n",
    "\n",
    "c) $m=50$, $n=6$\n",
    "\n",
    "d) $m=50$, $n=10$\n",
    "</p>"
   ]
  },
  {
   "cell_type": "markdown",
   "metadata": {},
   "source": [
    "<div class=\"alert alert-block alert-warning\"> Response:\n",
    " </div>"
   ]
  },
  {
   "cell_type": "markdown",
   "metadata": {},
   "source": [
    "<p class=\"bg-primary\" style=\"padding:1em\"> **Question 9):** Deduce some drawbacks for the polynomial models of the form \n",
    "   $$z(t) = \\Sigma_{j=1}^n p_j t^{j−1}$$ </p>"
   ]
  },
  {
   "cell_type": "markdown",
   "metadata": {},
   "source": [
    "<div class=\"alert alert-block alert-warning\"> Response:\n",
    "\n",
    " </div>"
   ]
  },
  {
   "cell_type": "markdown",
   "metadata": {},
   "source": [
    "<p class=\"bg-primary\" style=\"padding:1em\"> **Qestion 10):** Normalize data such that $t \\in [0,1]$ and  $z \\in [0,1]$ \n",
    "Does it change the drawbacks that you obtained in question 9? \n",
    "    \n",
    "Comment for: \n",
    "- e) $m=50$, $n=10$\n",
    "- f) $m=50$, $n=25$\n",
    "</p>"
   ]
  },
  {
   "cell_type": "markdown",
   "metadata": {},
   "source": [
    "<div class=\"alert alert-block alert-warning\"> Response:\n",
    "\n",
    " </div>"
   ]
  }
 ],
 "metadata": {
  "kernelspec": {
   "display_name": "Python 3 (ipykernel)",
   "language": "python",
   "name": "python3"
  },
  "language_info": {
   "codemirror_mode": {
    "name": "ipython",
    "version": 3
   },
   "file_extension": ".py",
   "mimetype": "text/x-python",
   "name": "python",
   "nbconvert_exporter": "python",
   "pygments_lexer": "ipython3",
   "version": "3.8.12"
  }
 },
 "nbformat": 4,
 "nbformat_minor": 4
}
