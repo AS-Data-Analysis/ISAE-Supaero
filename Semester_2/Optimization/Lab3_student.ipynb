{
 "cells": [
  {
   "cell_type": "markdown",
   "metadata": {},
   "source": [
    "# MAE Optimization LAB 3\n",
    "\n",
    "## April 2022"
   ]
  },
  {
   "cell_type": "markdown",
   "metadata": {},
   "source": [
    "<div class=\"alert alert-danger\">\n",
    "Caution: execute the cells sequentially \n",
    "<div>"
   ]
  },
  {
   "cell_type": "markdown",
   "metadata": {},
   "source": [
    "div class=\"alert alert-block alert-warning\">  Student Name:\n",
    "    \n",
    "    - First Name, Last Name:\n",
    "    \n",
    "    - First Name, Last Name:"
   ]
  },
  {
   "cell_type": "markdown",
   "metadata": {},
   "source": [
    "# Lab3 - Conic intersection\n",
    " \n",
    "The movement of network spatial objects follows conical trajectories in the movement plane $\\mathbb{R}^2$. Thus, for there to be a collision between two spatial objects, their trajectories must intersect and arrive synchronously at their intersection points. \n",
    "\n",
    "In this computer lab, we will be interested in analyzing an optimization problem related to conic intersection. Namely, the main goal will be to estimate the intersection points of the two following conics:\n",
    "\\begin{eqnarray}\n",
    " -x^2+xy+y^2+3 &=& 0\\qquad (\\mathcal{C}_1)\\nonumber\\\\\n",
    "x^2+xy+y^2-3 &=& 0\\qquad (\\mathcal{C}_2)\\nonumber\n",
    "\\end{eqnarray}"
   ]
  },
  {
   "cell_type": "markdown",
   "metadata": {},
   "source": [
    "Three possible approaches will be explored: \n",
    "\n",
    "- **Approach I** is an analytical approach where we will compute explicity the intersection points.\n",
    "- **Approach II** is an unconstrained optimization based approach to find the intersection points by minimizing an objective function $x \\to f(x)$ over $\\mathbb{R}^2$.\n",
    "- **Approach III** is a constrained optimization based approach where we minimize the distance between two points $A$ and $B$ in the plane $\\mathbb{R}^2$ such that $A \\in \\mathcal{C}_1$ and $B \\in \\mathcal{C}_2$."
   ]
  },
  {
   "cell_type": "markdown",
   "metadata": {},
   "source": [
    "<p class=\"bg-primary\" style=\"padding:1em\"> **Question 1):** Following the analytical approach, compute the intersection points between the conics $\\mathcal{C}_1$ and $\\mathcal{C}_2$. </p> "
   ]
  },
  {
   "cell_type": "markdown",
   "metadata": {},
   "source": [
    "<div class=\"alert alert-block alert-warning\"> Solution: \n",
    "(sqrt(3),0)  (sqrt(3),-sqrt(3))  (-sqrt(3),0)  (-sqrt(3),sqrt(3))  \n",
    "\n",
    "</div> "
   ]
  },
  {
   "cell_type": "markdown",
   "metadata": {},
   "source": [
    "### Imports:"
   ]
  },
  {
   "cell_type": "code",
   "execution_count": 1,
   "metadata": {},
   "outputs": [],
   "source": [
    "import numpy as np\n",
    "import scipy.optimize as opt\n",
    "import matplotlib as mpl\n",
    "import matplotlib.pyplot as plt"
   ]
  },
  {
   "cell_type": "markdown",
   "metadata": {},
   "source": [
    "## Plot  the two conics to check the intersection points"
   ]
  },
  {
   "cell_type": "code",
   "execution_count": 2,
   "metadata": {},
   "outputs": [
    {
     "data": {
      "image/png": "[encoded data removed]",
      "text/plain": [
       "<Figure size 432x288 with 1 Axes>"
      ]
     },
     "metadata": {
      "needs_background": "light"
     },
     "output_type": "display_data"
    }
   ],
   "source": [
    "\n",
    "mpl.rcParams['lines.color'] = 'k'\n",
    "mpl.rcParams['axes.prop_cycle'] = mpl.cycler('color', ['k'])\n",
    "x = np.linspace(-9, 9, 400)\n",
    "y = np.linspace(-5, 5, 400)\n",
    "x, y = np.meshgrid(x, y)\n",
    "def axes():\n",
    "    plt.axhline(0, alpha=.1)\n",
    "    plt.axvline(0, alpha=.1)\n",
    "    \n",
    "a = .3\n",
    "axes()\n",
    "CS= plt.contour(x, y, -x**2+x*y+y**2+3. , [0], colors='k')\n",
    "CS2= plt.contour(x, y, x**2+x*y+y**2-3. , [0], colors='r')\n",
    "plt.clabel(CS, inline=1, fontsize=10)\n",
    "CS.collections[0].set_label('Conic 1')\n",
    "plt.clabel(CS2, inline=1, fontsize=10)\n",
    "CS2.collections[0].set_label('Conic 2')    \n",
    "plt.legend()\n",
    "\n",
    "plt.show()\n"
   ]
  },
  {
   "cell_type": "markdown",
   "metadata": {},
   "source": [
    "<p class=\"bg-primary\" style=\"padding:1em\"> **Question 2):** Following the second approach, give a possible expression of the objective function $f$, compute its gradient. Complete the Python implementation of the following functions. </p> "
   ]
  },
  {
   "cell_type": "markdown",
   "metadata": {},
   "source": [
    "<div class=\"alert alert-block alert-warning\"> Solution: \n",
    "  \n",
    "\n",
    "</div>   "
   ]
  },
  {
   "cell_type": "code",
   "execution_count": 41,
   "metadata": {},
   "outputs": [],
   "source": [
    "def obj_func_approach_II(x) : \n",
    "    #TO DO (Complete the code objective function code)\n",
    "    x1 = x[0]\n",
    "    x2 = x[1]\n",
    "    obj_f_x= (-x1**2 + x1*x2 + x2**2 + 3)**2 + (x1**2 + x1*x2 + x2**2 - 3)**2                 # complete this code line\n",
    "    return (obj_f_x)\n",
    "def grad_obj_func_approach_II(x) : \n",
    "     #TO DO (Complete the code of the grad of the obj function)\n",
    "    x1 = x[0]\n",
    "    x2 = x[1]\n",
    "    a= 2*(-x1**2 + x1*x2 + x2**2 + 3)*(-2*x1+x2) + 2*(x1**2 + x1*x2 + x2**2 - 3)*(2*x1+x2)          # complete this code line\n",
    "    b= 2*(x1+2*x2)*(2*x1*x2+x2**2)                               # complete this code line\n",
    "    grad_obj_x=np.array([a,b])\n",
    "    return (grad_obj_x)"
   ]
  },
  {
   "cell_type": "markdown",
   "metadata": {},
   "source": [
    "<p class=\"bg-primary\" style=\"padding:1em\"> **Question 3):** Use the Python module \"opt.fmin_bfgs\", Solve the optimization problems related to **Approach II** $\\min_{{\\mathbb R}^2} f(x)$. \n",
    "Comment the obtained results using different starting points $x_0$.   \n",
    "</p> "
   ]
  },
  {
   "cell_type": "markdown",
   "metadata": {},
   "source": [
    "<div class=\"alert alert-block alert-warning\"> **Help**:  Use the Python module \"opt.fmin_bfgs\" to compute the optimal stepsize at each iteration.\n",
    "    \n",
    "    See the link: https://docs.scipy.org/doc/scipy/reference/generated/scipy.optimize.fmin_bfgs.html \n",
    "\n",
    "</div>\n",
    "    Be careful, to call opt.fmin_bfgs, in addition to the objective function and the starting point, you need to set   \n",
    "    \n",
    "    \n",
    "- fprime = grad_obj_func_approach_II, \n",
    "- full_output = 1, \n",
    "- disp = 1, \n",
    "- retall = 0"
   ]
  },
  {
   "cell_type": "code",
   "execution_count": 47,
   "metadata": {},
   "outputs": [
    {
     "name": "stdout",
     "output_type": "stream",
     "text": [
      "initial point [ 2 -1]\n",
      "Warning: Desired error not necessarily achieved due to precision loss.\n",
      "         Current function value: 0.987739\n",
      "         Iterations: 1\n",
      "         Function evaluations: 37\n",
      "         Gradient evaluations: 26\n",
      "The optimal solution x_opt is: [ 1.66638605 -1.        ]\n",
      "The objective value at x_opt is: 0.9877393037998218\n"
     ]
    }
   ],
   "source": [
    "x0_all=np.array([[2,0],[0,2],[2,-1]])\n",
    "#chosen x0, with start_index =0, 1 or 2\n",
    "start_index=2\n",
    "x0=x0_all[start_index,:]\n",
    "print('initial point', x0)\n",
    "sol = opt.fmin_bfgs(obj_func_approach_II,x0,grad_obj_func_approach_II,full_output=1)  # call here the routine opt.fmin_bfgs \n",
    "\n",
    "print(\"The optimal solution x_opt is:\", sol[0])\n",
    "print(\"The objective value at x_opt is:\", sol[1])"
   ]
  },
  {
   "cell_type": "markdown",
   "metadata": {},
   "source": [
    "<div class=\"alert alert-block alert-warning\"> Solution: \n",
    "  </div> \n",
    "  "
   ]
  },
  {
   "cell_type": "markdown",
   "metadata": {},
   "source": [
    "<p class=\"bg-primary\" style=\"padding:1em\"> **Question 4):** Following the third approach, give a possible expression of the objective function $f$ and the constraints $c$. Compute the gradient of $f$ and the jacobian of the constraints $c$. Complete the Python implementation of the following functions. </p> "
   ]
  },
  {
   "cell_type": "markdown",
   "metadata": {},
   "source": [
    "<div class=\"alert alert-block alert-warning\"> Solution: \n",
    "  </div> \n",
    "  "
   ]
  },
  {
   "cell_type": "code",
   "execution_count": 36,
   "metadata": {},
   "outputs": [],
   "source": [
    "def obj_func_approach_III(x) : \n",
    "    #TO DO (Complete the code objective function code)\n",
    "    A=x[0:2]\n",
    "    B=x[2:4]\n",
    "    x1=A[0]\n",
    "    y1=A[1]\n",
    "    x2=B[0]\n",
    "    y2=B[1]\n",
    "    obj_f_x= np.sqrt((x1 - x2)**(2) + (y1 - y2)**(2))               # complete this code line\n",
    "    return (obj_f_x)\n",
    "def grad_obj_func_approach_III(x) : \n",
    "     #TO DO (Complete the code of the grad of the obj function)\n",
    "    A=x[0:2]\n",
    "    B=x[2:4]\n",
    "    x1=A[0]\n",
    "    y1=A[1]\n",
    "    x2=B[0]\n",
    "    y2=B[1]\n",
    "    dist = np.sqrt((x1 - x2)**(2) + (y1 - y2)**(2))\n",
    "    G1 = (x1-x2)/dist\n",
    "    G2 = -(x1-x2)/dist\n",
    "    G3 = (y1-y2)/dist\n",
    "    G4 = -(y1-y2)/dist\n",
    "    grad_obj_x= np.array([G1,G2,G3,G4])                             # complete this code line\n",
    "    return (grad_obj_x)\n",
    "\n",
    "   ### Implementation of the equality constraints\n",
    "    # Inputs : [A,B] \\in R^4 \n",
    "    # Outputs : ceq de R^2  \n",
    "def constr_approach_III(x):\n",
    "    ''' Equality constraints: ceq(x)=(c1(x),c2(x),...) '''\n",
    "    #TO DO (Complete the code of the equality constraints function)\n",
    "    A=x[0:2]\n",
    "    B=x[2:4]\n",
    "    c1= -A[0]**2 + A[0]*A[1] + A[1]**2 + 3                      # complete this code line\n",
    "    c2= B[0]**2 + B[0]*B[1] + B[1]**2 - 3                       # complete this code line\n",
    "    ceq= np.array([c1,c2])\n",
    "    return ceq\n",
    "\n",
    "    ### Implementation of the jacobian of the equality constraints\n",
    "     # Inputs : [A,B] \\in R^4 \n",
    "     # Outputs : jac_c_x \\in R^{2x4} \n",
    "def jac_constr_approach_III(x):\n",
    "    '''Jacobian of the constraints'''\n",
    "    #TO DO (Complete the code of the jacobian of the equality constraints)\n",
    "    A=x[0:2]\n",
    "    B=x[2:4]\n",
    "    x1=A[0]\n",
    "    y1=A[1]\n",
    "    x2=B[0]\n",
    "    y2=B[1]\n",
    "    a1= -2*x1+y1              # complete this code line\n",
    "    b1= x1+2*y1               # complete this code line\n",
    "    c1= 0                     # complete this code line\n",
    "    d1= 0                     # complete this code line\n",
    "    \n",
    "    a2= 0                     # complete this code line\n",
    "    b2= 0                     # complete this code line\n",
    "    c2= 2*x2+y2               # complete this code line\n",
    "    d2= x2+2*y2               # complete this code line\n",
    "    \n",
    "    jac_c_x=np.array([[a1,b1,c1,d1],[a2,b2,c2,d2]])\n",
    "    return jac_c_x"
   ]
  },
  {
   "cell_type": "markdown",
   "metadata": {},
   "source": [
    "<p class=\"bg-primary\" style=\"padding:1em\"> **Question 5):** Use now the Python module \"opt.fmin_slsqp\", Solve the optimization problems related to **Approach III**. \n",
    "Comment the obtained results using different starting points $p_0=[A_0, B_0]$. Specify the main differences between the two Python routines \"opt.fmin_bfgs\" and \"opt.fmin_slsqp\".    \n",
    "</p> "
   ]
  },
  {
   "cell_type": "markdown",
   "metadata": {},
   "source": [
    "<div class=\"alert alert-block alert-warning\"> **Help**:  Use the Python module \"opt.fmin_slsqp\" to compute the optimal stepsize at each iteration. \n",
    "    \n",
    "    See the link: https://docs.scipy.org/doc/scipy/reference/generated/scipy.optimize.fmin_slsqp.html\n",
    "\n",
    "</div>\n",
    "    Be careful, to call opt.fmin_slsqp, in addition to the objective function and the starting point, you need to set\n",
    "    \n",
    "- fprime = grad_obj_func_approach_III, \n",
    "- f_eqcons = constr_approachIII, \n",
    "- fprime_eqcons = jac_constr_approachIII,\n",
    "- full_output = 1, disp = 1"
   ]
  },
  {
   "cell_type": "code",
   "execution_count": 37,
   "metadata": {},
   "outputs": [
    {
     "name": "stdout",
     "output_type": "stream",
     "text": [
      "initial point [2. 0. 2. 0.]\n",
      "Iteration limit reached    (Exit mode 9)\n",
      "            Current function value: nan\n",
      "            Iterations: 100\n",
      "            Function evaluations: 1090\n",
      "            Gradient evaluations: 100\n",
      "The optimal solution x_opt is: [nan nan nan nan]\n",
      "The objective value at x_opt is: nan\n"
     ]
    },
    {
     "name": "stderr",
     "output_type": "stream",
     "text": [
      "C:\\Users\\fades\\AppData\\Local\\Temp/ipykernel_14536/446951551.py:20: RuntimeWarning: invalid value encountered in double_scalars\n",
      "  G1 = (x1-x2)/dist\n",
      "C:\\Users\\fades\\AppData\\Local\\Temp/ipykernel_14536/446951551.py:21: RuntimeWarning: invalid value encountered in double_scalars\n",
      "  G2 = -(x1-x2)/dist\n",
      "C:\\Users\\fades\\AppData\\Local\\Temp/ipykernel_14536/446951551.py:22: RuntimeWarning: invalid value encountered in double_scalars\n",
      "  G3 = (y1-y2)/dist\n",
      "C:\\Users\\fades\\AppData\\Local\\Temp/ipykernel_14536/446951551.py:23: RuntimeWarning: invalid value encountered in double_scalars\n",
      "  G4 = -(y1-y2)/dist\n"
     ]
    }
   ],
   "source": [
    "start_index=0\n",
    "p0_all=np.array([[2.,0.,2.,0.],[0.,2.,0.,2.],[2.,-1.,2.,-1.]]) \n",
    "p0=p0_all[start_index,:]\n",
    "print('initial point', p0)\n",
    "sol = opt.fmin_slsqp(obj_func_approach_III,p0,f_eqcons=constr_approach_III,fprime=grad_obj_func_approach_III,fprime_eqcons = jac_constr_approach_III,full_output = 1, disp = 1)# call here the routine opt.fmin_slsqp \n",
    "\n",
    "print(\"The optimal solution x_opt is:\", sol[0])\n",
    "print(\"The objective value at x_opt is:\", sol[1])"
   ]
  },
  {
   "cell_type": "markdown",
   "metadata": {},
   "source": [
    "<p class=\"bg-primary\" style=\"padding:1em\"> **Question 6):** Conclude on the advantages and the limitations for each of the three approaches.\n",
    "</p>     \n"
   ]
  },
  {
   "cell_type": "markdown",
   "metadata": {},
   "source": [
    "<div class=\"alert alert-block alert-warning\"> Response: \n",
    "    </div>"
   ]
  },
  {
   "cell_type": "markdown",
   "metadata": {},
   "source": [
    "<p class=\"bg-primary\" style=\"padding:1em\"> (Bonus) **Question 7):** Using the optimization methods developped in the computer Lab2 solve the optimization problem related to \"Approach II\". Compare the obtained results with  those obtained using fmin_bfgs.\n",
    "</p>     \n"
   ]
  },
  {
   "cell_type": "code",
   "execution_count": null,
   "metadata": {},
   "outputs": [],
   "source": []
  }
 ],
 "metadata": {
  "kernelspec": {
   "display_name": "Python 3 (ipykernel)",
   "language": "python",
   "name": "python3"
  },
  "language_info": {
   "codemirror_mode": {
    "name": "ipython",
    "version": 3
   },
   "file_extension": ".py",
   "mimetype": "text/x-python",
   "name": "python",
   "nbconvert_exporter": "python",
   "pygments_lexer": "ipython3",
   "version": "3.8.12"
  }
 },
 "nbformat": 4,
 "nbformat_minor": 4
}
