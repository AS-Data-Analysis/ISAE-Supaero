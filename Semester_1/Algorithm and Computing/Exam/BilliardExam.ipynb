{
 "cells": [
  {
   "cell_type": "markdown",
   "metadata": {},
   "source": [
    "# Exam MAE1 2021 : 3D ISAE billiard "
   ]
  },
  {
   "cell_type": "markdown",
   "metadata": {},
   "source": [
    "The duration of this exam is **2 hours**. You can use an ISAE computer or your own computer. You have access to Internet without any restriction. So it is allowed to use informations from web sites concerning Python. You can also use the notebooks and the Python files you have developped during this course.   \n",
    "\n",
    "However, any communication during the exam is **totally forbidden**. If any evidence of any type of communication with another student or with anyone is found during or after the exam, the student(s) will have the mark 0/20. \n",
    "\n",
    "Note that the level of the questions is variable. So do not spend too much time on an exercice and try to do the next ones... The exam is deliberately long (for 2 hours) and the notation will be defined accordingly.  \n",
    "\n",
    "This exam contains two parts. The first one is on the management of the json files and the second one is on Vpython. Even if they concern the same subject, these two parts are independant.   \n",
    "\n",
    "\n",
    "Tip : the exam contains several Vpython windows. In order to avoid to restart the kernel at each run, try to first stop each run of a program in the head of the page before launching the next one.    \n",
    "\n",
    "\n",
    "\n",
    "Your main work is to build a class Ball which can be used to play on the billiard table defined in the next cell :"
   ]
  },
  {
   "cell_type": "code",
   "execution_count": 1,
   "metadata": {},
   "outputs": [
    {
     "data": {
      "text/html": [
       "<div id=\"glowscript\" class=\"glowscript\"></div>"
      ],
      "text/plain": [
       "<IPython.core.display.HTML object>"
      ]
     },
     "metadata": {},
     "output_type": "display_data"
    },
    {
     "data": {
      "application/javascript": [
       "if (typeof Jupyter !== \"undefined\") { window.__context = { glowscript_container: $(\"#glowscript\").removeAttr(\"id\")};}else{ element.textContent = ' ';}"
      ],
      "text/plain": [
       "<IPython.core.display.Javascript object>"
      ]
     },
     "metadata": {},
     "output_type": "display_data"
    },
    {
     "data": {
      "text/html": [
       "<div id=\"glowscript\" class=\"glowscript\"></div>"
      ],
      "text/plain": [
       "<IPython.core.display.HTML object>"
      ]
     },
     "metadata": {},
     "output_type": "display_data"
    },
    {
     "data": {
      "application/javascript": [
       "if (typeof Jupyter !== \"undefined\") { window.__context = { glowscript_container: $(\"#glowscript\").removeAttr(\"id\")};}else{ element.textContent = ' ';}"
      ],
      "text/plain": [
       "<IPython.core.display.Javascript object>"
      ]
     },
     "metadata": {},
     "output_type": "display_data"
    },
    {
     "data": {
      "application/javascript": [
       "if (typeof Jupyter !== \"undefined\") {require.undef(\"nbextensions/vpython_libraries/glow.min\");}else{element.textContent = ' ';}"
      ],
      "text/plain": [
       "<IPython.core.display.Javascript object>"
      ]
     },
     "metadata": {},
     "output_type": "display_data"
    },
    {
     "data": {
      "application/javascript": [
       "if (typeof Jupyter !== \"undefined\") {require.undef(\"nbextensions/vpython_libraries/glowcomm\");}else{element.textContent = ' ';}"
      ],
      "text/plain": [
       "<IPython.core.display.Javascript object>"
      ]
     },
     "metadata": {},
     "output_type": "display_data"
    },
    {
     "data": {
      "application/javascript": [
       "if (typeof Jupyter !== \"undefined\") {require.undef(\"nbextensions/vpython_libraries/jquery-ui.custom.min\");}else{element.textContent = ' ';}"
      ],
      "text/plain": [
       "<IPython.core.display.Javascript object>"
      ]
     },
     "metadata": {},
     "output_type": "display_data"
    },
    {
     "data": {
      "application/javascript": [
       "if (typeof Jupyter !== \"undefined\") {require([\"nbextensions/vpython_libraries/glow.min\"], function(){console.log(\"GLOW LOADED\");});}else{element.textContent = ' ';}"
      ],
      "text/plain": [
       "<IPython.core.display.Javascript object>"
      ]
     },
     "metadata": {},
     "output_type": "display_data"
    },
    {
     "data": {
      "application/javascript": [
       "if (typeof Jupyter !== \"undefined\") {require([\"nbextensions/vpython_libraries/glowcomm\"], function(){console.log(\"GLOWCOMM LOADED\");});}else{element.textContent = ' ';}"
      ],
      "text/plain": [
       "<IPython.core.display.Javascript object>"
      ]
     },
     "metadata": {},
     "output_type": "display_data"
    },
    {
     "data": {
      "application/javascript": [
       "if (typeof Jupyter !== \"undefined\") {require([\"nbextensions/vpython_libraries/jquery-ui.custom.min\"], function(){console.log(\"JQUERY LOADED\");});}else{element.textContent = ' ';}"
      ],
      "text/plain": [
       "<IPython.core.display.Javascript object>"
      ]
     },
     "metadata": {},
     "output_type": "display_data"
    }
   ],
   "source": [
    "from __future__ import division, print_function\n",
    "from vpython import *\n",
    "\n",
    "# dimensions of the table\n",
    "L = 254 # length\n",
    "W = 128 # width\n",
    "H = 10 # height\n",
    "\n",
    "scene=canvas(title=\"Billard\")\n",
    "#scene.camera.pos = vector(0, 75, 0) \n",
    "\n",
    "# ground\n",
    "box0 = box(pos = vector(0, -H/2, 0), width = W, length = L, height = H, color = color.green)\n",
    "\n",
    "# limits of the table\n",
    "box1 = box(pos = vector(-L/2 - H/2, H/2, 0),width = W ,length = H, height = H,color = color.red)\n",
    "box2 = box(pos = vector(L/2 + H/2, H/2, 0),width = W ,length = H, height = H,color = color.yellow) \n",
    "box3 = box(pos = vector(0, H/2, -W/2 - H/2),width = H ,length = L, height = H,color = color.blue)\n",
    "box4 = box(pos = vector(0, H/2, W/2 + H/2),width = H ,length = L, height = H,color = color.orange)\n"
   ]
  },
  {
   "cell_type": "markdown",
   "metadata": {},
   "source": [
    "## Part 1"
   ]
  },
  {
   "cell_type": "markdown",
   "metadata": {},
   "source": [
    "### Exercice 1.1\n",
    "\n",
    "Create a class Ball_v1 having just the function __init__ allowing to create an object with the following parameters :\n",
    "- pos : a vector defining its position\n",
    "- radius : the radius of the ball\n",
    "- speed : a vector defining the initial speed of the ball\n",
    "- color : the color of the ball\n",
    "(like for the satellites, you must use a sphere object of vpython.)\n",
    "\n"
   ]
  },
  {
   "cell_type": "code",
   "execution_count": 2,
   "metadata": {},
   "outputs": [],
   "source": [
    "class Ball_v1:\n",
    "\n",
    "    # class ball\n",
    "    def __init__(self, pos, radius, speed, color ):\n",
    "        self.pos=pos\n",
    "        self.radius=radius\n",
    "        self.speed=speed\n",
    "        self.color=color\n",
    "        self.s = sphere(pos=pos,radius=radius,color=color)\n"
   ]
  },
  {
   "cell_type": "markdown",
   "metadata": {},
   "source": [
    "### Exercice 1.2\n",
    "\n",
    "To manage the game, we wish to store or to load the configuration of a billiard game. For that, we want to use json files. An example of such file is the file billiard_conf1.json on the LMS. Load it and store it on a directory data. \n",
    "\n",
    "Basically, this file contains a field giving the number of balls and a list of balls, each one being characterized by its parameters. Note that the colors are represented by a list of 3 reals in the range [0,1].\n",
    "\n",
    "Define a function that load a configuration file and return the corresponding dictionary.  "
   ]
  },
  {
   "cell_type": "code",
   "execution_count": 3,
   "metadata": {},
   "outputs": [
    {
     "name": "stdout",
     "output_type": "stream",
     "text": [
      "{'nb_balls': 3, 'balls': [{'pos': [50, 5.5, 20], 'radius': 5.5, 'speed': [10, 0, 0], 'color': [0, 0, 0]}, {'pos': [-60, 5.5, 10], 'radius': 5.5, 'speed': [10, 0, 10], 'color': [1, 0, 0.5]}, {'pos': [0, 5.5, 10], 'radius': 5.5, 'speed': [10, 0, 10], 'color': [0.2, 0.5, 0.7]}]}\n"
     ]
    }
   ],
   "source": [
    "import json\n",
    "\n",
    "def loadConfiguration(path):\n",
    "    data_file = open(path)\n",
    "    json_string = data_file.read()\n",
    "    config_dictionary = json.loads(json_string)\n",
    "    return config_dictionary\n",
    "\n",
    "my_dict = loadConfiguration(\"data/billiard_conf1.json\")\n",
    "print(my_dict)"
   ]
  },
  {
   "cell_type": "markdown",
   "metadata": {},
   "source": [
    "### Exercice 1.3\n",
    "\n",
    "Verify that the value of the field nb_balls corresponds to the number of balls stored in the list of balls."
   ]
  },
  {
   "cell_type": "code",
   "execution_count": null,
   "metadata": {},
   "outputs": [],
   "source": [
    "my_dict['nb_balls']"
   ]
  },
  {
   "cell_type": "markdown",
   "metadata": {},
   "source": [
    "### Exercice 1.4\n",
    "\n",
    "Write the function build_ball which consider as input a dictionary representing a ball (in the format used in the json file - see the example below) and build and return an object of the class Ball_v1.  \n",
    "\n",
    "Note that in Vpython, a color can be represented by a vector of 3 reals in the range [0,1]. Please, use this representation to build your object."
   ]
  },
  {
   "cell_type": "code",
   "execution_count": 4,
   "metadata": {},
   "outputs": [],
   "source": [
    "ball_dict = { \n",
    "            \"pos\" : [30,5.5,10],\n",
    "            \"radius\" : 5.5,\n",
    "            \"speed\" : [10,0,0],\n",
    "            \"color\" : [0.8,0.6 ,0.6]\n",
    "        }\n",
    "\n",
    "def build_ball(ball_dict) :\n",
    "    pos = vector(ball_dict['pos'][0],ball_dict['pos'][1],ball_dict['pos'][2])\n",
    "    radius = ball_dict['radius']\n",
    "    speed = vector(ball_dict['speed'][0],ball_dict['speed'][1],ball_dict['speed'][2])\n",
    "    color = vector(ball_dict['color'][0],ball_dict['color'][1],ball_dict['color'][2])\n",
    "    obj = Ball_v1(pos,radius,speed,color)\n",
    "    return obj"
   ]
  },
  {
   "cell_type": "markdown",
   "metadata": {},
   "source": [
    "### Exercice 1.5\n",
    "\n",
    "By using the previous function, create the list of Ball_v1 objects corresponding to the data of the file billiard_conf1.json . "
   ]
  },
  {
   "cell_type": "code",
   "execution_count": 6,
   "metadata": {},
   "outputs": [
    {
     "data": {
      "text/html": [
       "<div id=\"glowscript\" class=\"glowscript\"></div>"
      ],
      "text/plain": [
       "<IPython.core.display.HTML object>"
      ]
     },
     "metadata": {},
     "output_type": "display_data"
    },
    {
     "data": {
      "application/javascript": [
       "if (typeof Jupyter !== \"undefined\") { window.__context = { glowscript_container: $(\"#glowscript\").removeAttr(\"id\")};}else{ element.textContent = ' ';}"
      ],
      "text/plain": [
       "<IPython.core.display.Javascript object>"
      ]
     },
     "metadata": {},
     "output_type": "display_data"
    }
   ],
   "source": [
    "from __future__ import division, print_function\n",
    "from vpython import *\n",
    "\n",
    "# dimensions of the table\n",
    "L = 254 # length\n",
    "W = 128 # width\n",
    "H = 10 # height\n",
    "\n",
    "scene=canvas(title=\"Billard\")\n",
    "#scene.camera.pos = vector(0, 75, 0) \n",
    "\n",
    "# ground\n",
    "box0 = box(pos = vector(0, -H/2, 0), width = W, length = L, height = H, color = color.green)\n",
    "\n",
    "# limits of the table\n",
    "box1 = box(pos = vector(-L/2 - H/2, H/2, 0),width = W ,length = H, height = H,color = color.red)\n",
    "box2 = box(pos = vector(L/2 + H/2, H/2, 0),width = W ,length = H, height = H,color = color.yellow) \n",
    "box3 = box(pos = vector(0, H/2, -W/2 - H/2),width = H ,length = L, height = H,color = color.blue)\n",
    "box4 = box(pos = vector(0, H/2, W/2 + H/2),width = H ,length = L, height = H,color = color.orange)\n",
    "\n",
    "\n",
    "list_balls = []\n",
    "for i in range(my_dict['nb_balls']):\n",
    "    ball = build_ball(my_dict['balls'][i])\n",
    "    list_balls.append(ball)"
   ]
  },
  {
   "cell_type": "markdown",
   "metadata": {},
   "source": [
    "## Part 2  "
   ]
  },
  {
   "cell_type": "markdown",
   "metadata": {},
   "source": [
    "### Exercice 2.1\n",
    "\n",
    "Create a class Ball_v2 having the same function __init__  than Ball_v1 and another function **updatePosition**.\n",
    "This function, which has a parameter dt corresponding to a time step, updates the position of the ball. \n",
    "\n",
    "We assume that there is a small friction between the ball and the table. This friction is implemented by updating the speed of the ball by multipying it at each time step by a friction coefficient equal to 0.999. This must be done in the function updatePosition. After that, the position of the ball is updated with the new speed and the time step."
   ]
  },
  {
   "cell_type": "code",
   "execution_count": 7,
   "metadata": {},
   "outputs": [],
   "source": [
    "friction_coeff = 0.999\n",
    "\n",
    "class Ball_v2:\n",
    "\n",
    "    # class ball\n",
    "    def __init__(self, pos, radius, speed, color):\n",
    "        self.pos=pos\n",
    "        self.radius=radius\n",
    "        self.speed=speed\n",
    "        self.color=color\n",
    "        self.s = sphere(pos=pos,radius=radius,color=color)\n",
    "        \n",
    "    def updatePosition(self,dt):\n",
    "        while self.speed>0:\n",
    "            self.speed = mag(self.speed)*friction_coeff*norm(self.speed)\n",
    "            self.pos = self.pos + self.speed*dt\n",
    "            self.s.pos = self.pos"
   ]
  },
  {
   "cell_type": "markdown",
   "metadata": {},
   "source": [
    "### Exercice 2.2\n",
    "\n",
    "In the class Ball_v3, modify the function **updatePosition** in order to stop the ball when it reaches a wall (a limit of the table). You can detect it by evaluating the value of the \"x\" and \"z\" parameters of the pos of the sphere. \n",
    "\n",
    "Evaluate your ball on the following scene. "
   ]
  },
  {
   "cell_type": "code",
   "execution_count": 8,
   "metadata": {},
   "outputs": [
    {
     "data": {
      "text/html": [
       "<div id=\"glowscript\" class=\"glowscript\"></div>"
      ],
      "text/plain": [
       "<IPython.core.display.HTML object>"
      ]
     },
     "metadata": {},
     "output_type": "display_data"
    },
    {
     "data": {
      "application/javascript": [
       "if (typeof Jupyter !== \"undefined\") { window.__context = { glowscript_container: $(\"#glowscript\").removeAttr(\"id\")};}else{ element.textContent = ' ';}"
      ],
      "text/plain": [
       "<IPython.core.display.Javascript object>"
      ]
     },
     "metadata": {},
     "output_type": "display_data"
    },
    {
     "ename": "KeyboardInterrupt",
     "evalue": "",
     "output_type": "error",
     "traceback": [
      "\u001b[1;31m---------------------------------------------------------------------------\u001b[0m",
      "\u001b[1;31mKeyboardInterrupt\u001b[0m                         Traceback (most recent call last)",
      "\u001b[1;32m~\\AppData\\Local\\Temp/ipykernel_19896/3714680288.py\u001b[0m in \u001b[0;36m<module>\u001b[1;34m\u001b[0m\n\u001b[0;32m     46\u001b[0m \u001b[0mdt\u001b[0m \u001b[1;33m=\u001b[0m \u001b[1;36m0.01\u001b[0m\u001b[1;33m\u001b[0m\u001b[1;33m\u001b[0m\u001b[0m\n\u001b[0;32m     47\u001b[0m \u001b[1;32mwhile\u001b[0m \u001b[1;32mTrue\u001b[0m\u001b[1;33m:\u001b[0m\u001b[1;33m\u001b[0m\u001b[1;33m\u001b[0m\u001b[0m\n\u001b[1;32m---> 48\u001b[1;33m     \u001b[0mrate\u001b[0m\u001b[1;33m(\u001b[0m\u001b[1;36m50\u001b[0m\u001b[1;33m)\u001b[0m\u001b[1;33m\u001b[0m\u001b[1;33m\u001b[0m\u001b[0m\n\u001b[0m\u001b[0;32m     49\u001b[0m     \u001b[0mball3\u001b[0m\u001b[1;33m.\u001b[0m\u001b[0mupdatePosition\u001b[0m\u001b[1;33m(\u001b[0m\u001b[0mdt\u001b[0m\u001b[1;33m)\u001b[0m\u001b[1;33m\u001b[0m\u001b[1;33m\u001b[0m\u001b[0m\n",
      "\u001b[1;32m~\\Anaconda3\\lib\\site-packages\\vpython\\rate_control.py\u001b[0m in \u001b[0;36m__call__\u001b[1;34m(self, N)\u001b[0m\n\u001b[0;32m    264\u001b[0m         \u001b[0mself\u001b[0m\u001b[1;33m.\u001b[0m\u001b[0mrval\u001b[0m \u001b[1;33m=\u001b[0m \u001b[0mN\u001b[0m\u001b[1;33m\u001b[0m\u001b[1;33m\u001b[0m\u001b[0m\n\u001b[0;32m    265\u001b[0m         \u001b[1;32mif\u001b[0m \u001b[0mself\u001b[0m\u001b[1;33m.\u001b[0m\u001b[0mrval\u001b[0m \u001b[1;33m<\u001b[0m \u001b[1;36m1\u001b[0m\u001b[1;33m:\u001b[0m \u001b[1;32mraise\u001b[0m \u001b[0mValueError\u001b[0m\u001b[1;33m(\u001b[0m\u001b[1;34m\"rate value must be greater than or equal to 1\"\u001b[0m\u001b[1;33m)\u001b[0m\u001b[1;33m\u001b[0m\u001b[1;33m\u001b[0m\u001b[0m\n\u001b[1;32m--> 266\u001b[1;33m         \u001b[0msuper\u001b[0m\u001b[1;33m(\u001b[0m\u001b[0m_RateKeeper2\u001b[0m\u001b[1;33m,\u001b[0m \u001b[0mself\u001b[0m\u001b[1;33m)\u001b[0m\u001b[1;33m.\u001b[0m\u001b[0m__call__\u001b[0m\u001b[1;33m(\u001b[0m\u001b[0mself\u001b[0m\u001b[1;33m.\u001b[0m\u001b[0mrval\u001b[0m\u001b[1;33m)\u001b[0m \u001b[1;31m## calls __call__ in rate_control.py\u001b[0m\u001b[1;33m\u001b[0m\u001b[1;33m\u001b[0m\u001b[0m\n\u001b[0m\u001b[0;32m    267\u001b[0m \u001b[1;33m\u001b[0m\u001b[0m\n\u001b[0;32m    268\u001b[0m \u001b[1;33m\u001b[0m\u001b[0m\n",
      "\u001b[1;32m~\\Anaconda3\\lib\\site-packages\\vpython\\rate_control.py\u001b[0m in \u001b[0;36m__call__\u001b[1;34m(self, maxRate)\u001b[0m\n\u001b[0;32m    218\u001b[0m             \u001b[0mdt\u001b[0m \u001b[1;33m=\u001b[0m \u001b[0mself\u001b[0m\u001b[1;33m.\u001b[0m\u001b[0mlastSleep\u001b[0m \u001b[1;33m+\u001b[0m \u001b[0mself\u001b[0m\u001b[1;33m.\u001b[0m\u001b[0mcalls\u001b[0m\u001b[1;33m*\u001b[0m\u001b[1;33m(\u001b[0m\u001b[0mself\u001b[0m\u001b[1;33m.\u001b[0m\u001b[0muserTime\u001b[0m \u001b[1;33m+\u001b[0m \u001b[0mself\u001b[0m\u001b[1;33m.\u001b[0m\u001b[0mcallTime\u001b[0m \u001b[1;33m+\u001b[0m \u001b[0mself\u001b[0m\u001b[1;33m.\u001b[0m\u001b[0mdelay\u001b[0m\u001b[1;33m)\u001b[0m \u001b[1;33m+\u001b[0m\u001b[0;31m \u001b[0m\u001b[0;31m\\\u001b[0m\u001b[1;33m\u001b[0m\u001b[1;33m\u001b[0m\u001b[0m\n\u001b[0;32m    219\u001b[0m                  \u001b[0mrenders\u001b[0m\u001b[1;33m*\u001b[0m\u001b[0mself\u001b[0m\u001b[1;33m.\u001b[0m\u001b[0mrenderTime\u001b[0m \u001b[1;33m+\u001b[0m \u001b[0msleeps\u001b[0m\u001b[1;33m*\u001b[0m\u001b[0mself\u001b[0m\u001b[1;33m.\u001b[0m\u001b[0minteractionPeriod\u001b[0m \u001b[1;33m-\u001b[0m \u001b[0m_clock\u001b[0m\u001b[1;33m(\u001b[0m\u001b[1;33m)\u001b[0m\u001b[1;33m\u001b[0m\u001b[1;33m\u001b[0m\u001b[0m\n\u001b[1;32m--> 220\u001b[1;33m             \u001b[0m_sleep\u001b[0m\u001b[1;33m(\u001b[0m\u001b[0mdt\u001b[0m\u001b[1;33m)\u001b[0m\u001b[1;33m\u001b[0m\u001b[1;33m\u001b[0m\u001b[0m\n\u001b[0m\u001b[0;32m    221\u001b[0m             \u001b[0mself\u001b[0m\u001b[1;33m.\u001b[0m\u001b[0mlastSleep\u001b[0m \u001b[1;33m=\u001b[0m \u001b[0m_clock\u001b[0m\u001b[1;33m(\u001b[0m\u001b[1;33m)\u001b[0m\u001b[1;33m\u001b[0m\u001b[1;33m\u001b[0m\u001b[0m\n\u001b[0;32m    222\u001b[0m             \u001b[0mself\u001b[0m\u001b[1;33m.\u001b[0m\u001b[0mcalls\u001b[0m \u001b[1;33m=\u001b[0m \u001b[1;36m0\u001b[0m\u001b[1;33m\u001b[0m\u001b[1;33m\u001b[0m\u001b[0m\n",
      "\u001b[1;32m~\\Anaconda3\\lib\\site-packages\\vpython\\rate_control.py\u001b[0m in \u001b[0;36m_sleep\u001b[1;34m(dt)\u001b[0m\n\u001b[0;32m     60\u001b[0m         \u001b[0mdtsleep\u001b[0m \u001b[1;33m=\u001b[0m \u001b[0mnticks\u001b[0m\u001b[1;33m*\u001b[0m\u001b[0m_tick\u001b[0m\u001b[1;33m\u001b[0m\u001b[1;33m\u001b[0m\u001b[0m\n\u001b[0;32m     61\u001b[0m         \u001b[0mt\u001b[0m \u001b[1;33m=\u001b[0m \u001b[0m_clock\u001b[0m\u001b[1;33m(\u001b[0m\u001b[1;33m)\u001b[0m\u001b[1;33m\u001b[0m\u001b[1;33m\u001b[0m\u001b[0m\n\u001b[1;32m---> 62\u001b[1;33m         \u001b[0mtime\u001b[0m\u001b[1;33m.\u001b[0m\u001b[0msleep\u001b[0m\u001b[1;33m(\u001b[0m\u001b[0mdtsleep\u001b[0m\u001b[1;33m)\u001b[0m\u001b[1;33m\u001b[0m\u001b[1;33m\u001b[0m\u001b[0m\n\u001b[0m\u001b[0;32m     63\u001b[0m         \u001b[0mt\u001b[0m \u001b[1;33m=\u001b[0m \u001b[0m_clock\u001b[0m\u001b[1;33m(\u001b[0m\u001b[1;33m)\u001b[0m\u001b[1;33m-\u001b[0m\u001b[0mt\u001b[0m\u001b[1;33m\u001b[0m\u001b[1;33m\u001b[0m\u001b[0m\n\u001b[0;32m     64\u001b[0m         \u001b[0mdt\u001b[0m \u001b[1;33m-=\u001b[0m \u001b[0mt\u001b[0m\u001b[1;33m\u001b[0m\u001b[1;33m\u001b[0m\u001b[0m\n",
      "\u001b[1;31mKeyboardInterrupt\u001b[0m: "
     ]
    }
   ],
   "source": [
    "from __future__ import division, print_function\n",
    "from vpython import *\n",
    "\n",
    "scene=canvas(title=\"Billard\")\n",
    "#scene.camera.pos = vector(0, 75, 0) \n",
    "\n",
    "# dimensions of the table\n",
    "L = 254 # length\n",
    "W = 128 # width\n",
    "H = 10 # height\n",
    "ball_radius = 5.5\n",
    "\n",
    "friction_coeff = 0.999\n",
    "\n",
    "class Ball_v3:\n",
    "\n",
    "    # class ball\n",
    "    def __init__(self, pos, radius, speed, color):\n",
    "        self.pos=pos\n",
    "        self.radius=radius\n",
    "        self.speed=speed\n",
    "        self.color=color\n",
    "        self.s = sphere(pos=pos,radius=radius,color=color)\n",
    "    \n",
    "    def updatePosition(self,dt):\n",
    "        while mag(self.speed)>0 and self.pos.x<=abs(L/2-self.radius) and self.pos.z<=abs(H/2-self.radius):\n",
    "            self.speed = mag(self.speed)*friction_coeff*norm(self.speed)\n",
    "            self.pos = self.pos + self.speed*dt\n",
    "            self.s.pos = self.pos\n",
    "\n",
    "              \n",
    "# ground\n",
    "box0 = box(pos = vector(0, -H/2, 0), width = W, length = L, height = H, color = color.green)\n",
    "\n",
    "# limits of the table\n",
    "box1 = box(pos = vector(-L/2 - H/2, H/2, 0),width = W ,length = H, height = H,color = color.red)\n",
    "box2 = box(pos = vector(L/2 + H/2, H/2, 0),width = W ,length = H, height = H,color = color.yellow) \n",
    "box3 = box(pos = vector(0, H/2, -W/2 - H/2),width = H ,length = L, height = H,color = color.blue)\n",
    "box4 = box(pos = vector(0, H/2, W/2 + H/2),width = H ,length = L, height = H,color = color.orange)\n",
    "\n",
    "\n",
    "# construction of the ball\n",
    "ball3 = Ball_v3(pos=vector(0,ball_radius,0),radius=ball_radius, speed=vector(100,0,90), color=color.white)          \n",
    "\n",
    "# launch the animation\n",
    "dt = 0.01\n",
    "while True:\n",
    "    rate(50)\n",
    "    ball3.updatePosition(dt)"
   ]
  },
  {
   "cell_type": "markdown",
   "metadata": {},
   "source": [
    "### Exercice 2.3\n",
    "\n",
    "Modify the updatePosition in order to implement the rebound of a ball on the wall. \n",
    "\n",
    "Tip : A simple way to obtain the new speed vector is to rotate the speed by an angle pi around an axis parallel to the wall. Another (different) solution is to use a normalized vector **n** orthogonal to the wall and parallel to the table. If **v** denotes the speed vector of the ball, the speed **V** of the ball after the rebound is equal to **v** - 2 $*$ dot(**v**,**n**) $*$ **n**   \n"
   ]
  },
  {
   "cell_type": "code",
   "execution_count": null,
   "metadata": {},
   "outputs": [],
   "source": [
    "from __future__ import division, print_function\n",
    "from vpython import *\n",
    "\n",
    "class Ball_v4:\n",
    "\n",
    "    # class ball\n",
    "    def __init__(self, pos, radius, speed, color):\n",
    "        self.pos=pos\n",
    "        self.radius=radius\n",
    "        self.speed=speed\n",
    "        self.color=color\n",
    "        self.s = sphere(pos=pos,radius=radius,color=color)\n",
    "    \n",
    "    def updatePosition(self,dt):\n",
    "        if abs(self.s.pos.x)<L/2-self.s.radius and abs(self.s.pos.z)<H/2-self.s.radius:\n",
    "            self.speed = mag(self.speed)*friction_coeff*norm(self.speed)\n",
    "            #self.pos = self.pos\n",
    "            self.s.pos = self.pos + self.speed*dt\n",
    "        elif abs(self.s.pos.x)<L/2-self.s.radius:\n",
    "            if self.s.pos.x>0:\n",
    "                n = vector(-self.s.pos.x-self.s.radius,0,0)\n",
    "                self.speed = norm(self.speed - 2*dot(self.speed,n)*n)\n",
    "            elif self.s.pos.x<0:\n",
    "                n = vector(self.s.pos.x+self.s.radius,0,0)\n",
    "                self.speed = norm(self.speed - 2*dot(self.speed,n)*n)\n",
    "        elif abs(self.s.pos.z<H/2-self.s.radius):\n",
    "            if self.s.pos.z>0:\n",
    "                n = vector(0,0,-self.s.pos.z-self.s.radius)\n",
    "                self.speed = norm(self.speed - 2*dot(self.speed,n)*n)\n",
    "            elif self.s.pos.z<0:\n",
    "                n = vector(0,0,self.s.pos.z+self.s.radius)\n",
    "                self.speed = norm(self.speed - 2*dot(self.speed,n)*n)\n",
    "            \n",
    "            \n",
    "              \n",
    "scene=canvas(title=\"Billard\")\n",
    "#scene.camera.pos = vector(0, 75, 0) \n",
    "\n",
    "# dimensions of the table\n",
    "L = 254 # length\n",
    "W = 128 # width\n",
    "H = 10 # height\n",
    "ball_radius = 5.5\n",
    "\n",
    "friction_coeff = 0.999\n",
    "\n",
    "# ground\n",
    "box0 = box(pos = vector(0, -H/2, 0), width = W, length = L, height = H, color = color.green)\n",
    "\n",
    "# limits of the table\n",
    "box1 = box(pos = vector(-L/2 - H/2, H/2, 0),width = W ,length = H, height = H,color = color.red)\n",
    "box2 = box(pos = vector(L/2 + H/2, H/2, 0),width = W ,length = H, height = H,color = color.yellow) \n",
    "box3 = box(pos = vector(0, H/2, -W/2 - H/2),width = H ,length = L, height = H,color = color.blue)\n",
    "box4 = box(pos = vector(0, H/2, W/2 + H/2),width = H ,length = L, height = H,color = color.orange)\n",
    "\n",
    "\n",
    "# construction of the ball\n",
    "ball4 = Ball_v4(pos=vector(0,ball_radius,0),radius=ball_radius, speed=vector(100,0,90), color=color.white)\n",
    "            \n",
    "            \n",
    "# launch the animation\n",
    "dt = 0.01     \n",
    "while True:\n",
    "    rate(50)\n",
    "    ball4.updatePosition(dt)"
   ]
  },
  {
   "attachments": {
    "collision.png": {
     "image/png": "[encoded data removed]"
    }
   },
   "cell_type": "markdown",
   "metadata": {},
   "source": [
    "### Exercice 2.4 : \n",
    "\n",
    "The objective of this exercice is to manage the collisions between the balls. \n",
    "\n",
    "![collision.png](attachment:collision.png)\n",
    "\n",
    "As shown in the figure, the simplest way to compute the new speeds of the balls after the collision is to consider the projections of the speeds on the vectors **un** and **ut** :\n",
    "- **un** (unit normal) is a normalized vector on the line relying the centers of the balls at the collision(tip : use the norm function to obtain un)\n",
    "- **ut** (unit tangent) is a normalized vector orthogonal to un (tip: ut is a rotation of un)\n",
    "\n",
    "First, you need to compute the projections of the speeds of the balls on **un** and **ut**. For that, you just need to compute the dot product between the vector (**un** or **ut**) and the considered speed, denoted by **v1** or **v2**. \n",
    "Let us denote by **v1n** and **v1t** (resp. **v2n** and **v2t**) the projections of **v1** (resp. **v2**) on **un** and **ut**. \n",
    "\n",
    "To obtain the speeds of the balls after the collision (denoted by **V1** and **V2**), you first need to compute their projections on **un** and **ut**. Let us denote by **V1n** and **V1t** (resp. **V2n** and **V2t**) the projections of **V1** (resp. **V2**) on **un** and **ut**.\n",
    "\n",
    "By assuming that the collision is elastic, it can be shown that :\n",
    "- **V1n** = **v2n**\n",
    "- **V2n** = **v1n**\n",
    "- **V1t** = **v1t** \n",
    "- **V2t** = **v2t**\n",
    "\n",
    "Then, you can obtain **V1** = **V1n**$*$**un** + **V1t**$*$**ut** and **V2** = **V2n**$*$**un** + **V2t**$*$**ut**.\n",
    "\n",
    "Define a function **manage_collision(ball1,ball2)** (out of the Class Ball) and test it with two balls defined as follows :\n",
    "\n",
    "first_ball = Ball_v5(pos=vector(0,ball_radius,0),radius=ball_radius, speed=vector(100,0,0), color=color.white)<br>\n",
    "second_ball = Ball_v5(pos=vector(100,ball_radius,1),radius=ball_radius, speed=vector(-100,0,-1), color=color.black)\n"
   ]
  },
  {
   "cell_type": "code",
   "execution_count": null,
   "metadata": {},
   "outputs": [],
   "source": [
    "def manage_collision(ball1, ball2) :\n",
    "    \n"
   ]
  },
  {
   "cell_type": "markdown",
   "metadata": {},
   "source": [
    "### Exercice 2.5\n",
    "\n",
    "Add to the billiard table 6 holes : 4 in the 4 corners, and 2 in the middle of the long side. \n",
    "\n",
    "In practical, a hole represented by a \"flat\" cylinder (i.e. with very small length). The 6 objects holes will be stored in a list to facilitate their management.  \n",
    "\n",
    "Modify your **updatePosition** function to simulate the fall of a ball in the hole. In practical, when the program detects that the ball must fall, it makes it invisible (ball.s.visible = False). \n"
   ]
  },
  {
   "cell_type": "code",
   "execution_count": null,
   "metadata": {},
   "outputs": [],
   "source": [
    "from __future__ import division, print_function\n",
    "from vpython import *\n",
    "\n",
    "scene=canvas(title=\"Billard\")\n",
    "scene.camera.pos = vector(0, 75, 0) \n",
    "\n",
    "# dimensions of the table\n",
    "L = 254 # length\n",
    "W = 128 # width\n",
    "H = 10 # height\n",
    "ball_radius = 5.5\n",
    "\n",
    "friction_coeff = 0.999\n",
    "\n",
    "class Ball_v5:\n",
    "    # class ball\n",
    "    def __init__(self, pos, radius, speed, color):\n",
    "        ...\n",
    "    \n",
    "    def updatePosition(self,dt):\n",
    "        ...\n",
    "\n",
    "class Hole:\n",
    "\n",
    "    def __init__(self, pos):\n",
    "        ...\n",
    "    \n",
    "# ground\n",
    "box0 = box(pos = vector(0, -H/2, 0), width = W, length = L, height = H, color = color.green)\n",
    "\n",
    "# limits of the table\n",
    "box1 = box(pos = vector(-L/2 - H/2, H/2, 0),width = W ,length = H, height = H,color = color.red)\n",
    "box2 = box(pos = vector(L/2 + H/2, H/2, 0),width = W ,length = H, height = H,color = color.yellow) \n",
    "box3 = box(pos = vector(0, H/2, -W/2 - H/2),width = H ,length = L, height = H,color = color.blue)\n",
    "box4 = box(pos = vector(0, H/2, W/2 + H/2),width = H ,length = L, height = H,color = color.orange)\n",
    "\n",
    "# holes\n",
    "listHoles = []\n",
    "...\n",
    "\n",
    "# construction of the ball\n",
    "ball5 = Ball_v5(pos=vector(0,ball_radius,0),radius=ball_radius, speed=vector(100,0,90), color=color.white)\n",
    "            \n",
    "            \n",
    "# launch the animation\n",
    "dt = 0.01     \n",
    "while True:\n",
    "    rate(50)\n",
    "    ball5.updatePosition(dt)"
   ]
  },
  {
   "cell_type": "markdown",
   "metadata": {},
   "source": [
    "### Exercice 2.6\n",
    "\n",
    "Consider the configuration with the 3 balls :\n",
    "\n",
    "white_ball = Ball_v5(pos=vector(0,ball_radius,0),radius=ball_radius, speed=vector(... , ... , ...), color=color.white)<br>\n",
    "black_ball = Ball_v5(pos=vector(100,ball_radius,1),radius=ball_radius, speed=vector(0,0,0), color=color.black)<br>\n",
    "red_ball = Ball_v5(pos=vector(100,ball_radius,1),radius=ball_radius, speed=vector(0,0,0), color=color.red)\n",
    "\n",
    "The black and the red balls are at rest. \n",
    "Find a vector speed for the white ball such that the 3 balls fall in the holes as soon as possible. At the end, print the number of steps (a step is a call to the updatePosition function) needed to put the three balls in the holes. Please keep the magnitude of the speed vector lower than 100.  "
   ]
  },
  {
   "cell_type": "code",
   "execution_count": null,
   "metadata": {},
   "outputs": [],
   "source": []
  }
 ],
 "metadata": {
  "kernelspec": {
   "display_name": "Python 3 (ipykernel)",
   "language": "python",
   "name": "python3"
  },
  "language_info": {
   "codemirror_mode": {
    "name": "ipython",
    "version": 3
   },
   "file_extension": ".py",
   "mimetype": "text/x-python",
   "name": "python",
   "nbconvert_exporter": "python",
   "pygments_lexer": "ipython3",
   "version": "3.8.8"
  }
 },
 "nbformat": 4,
 "nbformat_minor": 2
}
