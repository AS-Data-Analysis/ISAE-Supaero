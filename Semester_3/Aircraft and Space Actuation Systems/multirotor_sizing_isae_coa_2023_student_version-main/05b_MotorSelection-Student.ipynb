{
 "cells": [
  {
   "cell_type": "markdown",
   "metadata": {
    "slideshow": {
     "slide_type": "slide"
    }
   },
   "source": [
    "<img src=\"./pictures/logo_sizinglab.png\" style=\"float:right; max-width: 60px; display: inline\" alt=\"SizingLab\" /></a>"
   ]
  },
  {
   "cell_type": "markdown",
   "metadata": {
    "slideshow": {
     "slide_type": "slide"
    }
   },
   "source": [
    "# Motor selection\n",
    "*Written by Marc Budinger (INSA Toulouse), Scott Delbecq (ISAE-SUPAERO) and Félix Pollet (ISAE-SUPAERO), Toulouse, France.*"
   ]
  },
  {
   "cell_type": "markdown",
   "metadata": {
    "slideshow": {
     "slide_type": "slide"
    }
   },
   "source": [
    "## Design graph \n",
    "\n",
    "The following diagram represents the design graph of the motor’s selection. The mean speed/thrust (Ωmoy & Tmoy), the max speed/thrust (Ωmax & Tmax) and the battery voltage are assumed to be known here.\n",
    "\n",
    "![DesignGraph](./pictures/design_graphs/DesignGraphs_motor_student.svg)\n",
    "\n",
    "> **Questions:**\n",
    "* Give the 2 main sizing problems you are able to detect here.\n",
    "* Propose one or multiple solutions (which can request equation manipulation, addition of design variables, addition of constraints) \n",
    "* Orientate the arrows and write equations order, inputs/outputs at each step of this part of sizing procedure, additional constraints\n"
   ]
  },
  {
   "cell_type": "markdown",
   "metadata": {},
   "source": [
    "### Sizing code and optimization\n",
    "\n",
    "> Exercice: propose a sizing code for the selection of a motor.\n"
   ]
  },
  {
   "cell_type": "code",
   "execution_count": 2,
   "metadata": {},
   "outputs": [],
   "source": [
    "# Specifications\n",
    "\n",
    "# Reference parameters for scaling laws\n",
    "# Motor reference\n",
    "# Ref : AXI 5325/16 GOLD LINE\n",
    "T_nom_mot_ref = 2.32  # [N.m] rated torque\n",
    "T_max_mot_ref = 85./70.*T_nom_mot_ref # [N.m] max torque\n",
    "R_mot_ref = 0.03  # [Ohm] resistance\n",
    "M_mot_ref = 0.575 # [kg] mass\n",
    "K_T_ref = 0.03 # [N.m/A] torque coefficient\n",
    "T_mot_fr_ref = 0.03 # [N.m] friction torque (zero load, nominal speed)\n",
    "\n",
    "# Assumption\n",
    "T_pro_to=0.5#[N.m] Propeller Torque during takeoff\n",
    "Omega_pro_to=400.0#[rad/s] Propeller speed during takeoff\n",
    "T_pro_hov=1.0#[N.m] Propeller Torque during hover\n",
    "Omega_pro_hov=0.22#[rad/s] Propeller speed during hover\n",
    "U_bat_est= 14.0#[V] Battery voltage value (estimation)\n"
   ]
  },
  {
   "cell_type": "code",
   "execution_count": 3,
   "metadata": {},
   "outputs": [],
   "source": [
    "#Design variables\n",
    "kmot=1\n",
    "kspeed=1\n",
    "\n",
    "#Equations: This problem will be overconstrained if we write Tmax=k * T_takeoff. So, we just calculate Tmax and check at the end\n",
    "T_nom_mot = kmot * T_pro_hov\n",
    "T_max_mot = T_max_mot_ref * (T_nom_mot/T_nom_mot_ref)\n",
    "M_mot = M_mot_ref * (T_nom_mot/T_nom_mot_ref)**(3/3.5)\n",
    "\n",
    "# Selection with take-off speed\n",
    "K_T = U_bat_est/(kspeed * Omega_pro_to)   # Ubatt = kspeed * Kt * Omega_pro_to\n",
    "R_mot = R_mot_ref * (K_T/K_T_ref)**2 * (T_nom_mot/T_nom_mot_ref)**(-5/3.5)\n",
    "\n",
    "# Hover current and voltage\n",
    "I_hov = T_pro_hov/K_T\n",
    "U_hov = K_T * Omega_pro_hov + R_mot * I_hov\n",
    "\n",
    "# Takeoff current and voltage\n",
    "I_to = T_pro_to/K_T\n",
    "U_to = K_T * Omega_pro_to + R_mot * I_to\n",
    "\n",
    "# Friction Torque\n",
    "T_mot_fr = T_mot_fr_ref * (T_nom_mot/T_nom_mot_ref)**(3/3.5)"
   ]
  }
 ],
 "metadata": {
  "kernelspec": {
   "display_name": "Python 3 (ipykernel)",
   "language": "python",
   "name": "python3"
  },
  "language_info": {
   "codemirror_mode": {
    "name": "ipython",
    "version": 3
   },
   "file_extension": ".py",
   "mimetype": "text/x-python",
   "name": "python",
   "nbconvert_exporter": "python",
   "pygments_lexer": "ipython3",
   "version": "3.8.12"
  }
 },
 "nbformat": 4,
 "nbformat_minor": 4
}
