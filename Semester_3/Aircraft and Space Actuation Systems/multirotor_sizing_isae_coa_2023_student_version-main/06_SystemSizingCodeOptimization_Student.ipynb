{
 "cells": [
  {
   "cell_type": "markdown",
   "metadata": {
    "slideshow": {
     "slide_type": "slide"
    }
   },
   "source": [
    "<img src=\"./pictures/logo_sizinglab.png\" style=\"float:right; max-width: 60px; display: inline\" alt=\"SizingLab\" /></a>"
   ]
  },
  {
   "cell_type": "markdown",
   "metadata": {
    "slideshow": {
     "slide_type": "slide"
    }
   },
   "source": [
    "# Sizing of a multi-rotor drone\n",
    "\n",
    "*Written by Marc Budinger (INSA Toulouse), Scott Delbecq (ISAE-SUPAERO) and Félix Pollet (ISAE-SUPAERO), Toulouse, France.*"
   ]
  },
  {
   "cell_type": "markdown",
   "metadata": {},
   "source": [
    "The objective of this notebook is to select the best compromise of components (propeller, motor, ESC, battery) of a multi-rotor drone for given specifiations."
   ]
  },
  {
   "cell_type": "code",
   "execution_count": 1,
   "metadata": {},
   "outputs": [],
   "source": [
    "# Import libraries\n",
    "import math\n",
    "import numpy as np\n",
    "from utils.openmdao_generator import GUI_notebook"
   ]
  },
  {
   "cell_type": "markdown",
   "metadata": {
    "slideshow": {
     "slide_type": "slide"
    }
   },
   "source": [
    "## Sizing code"
   ]
  },
  {
   "cell_type": "markdown",
   "metadata": {
    "slideshow": {
     "slide_type": "slide"
    }
   },
   "source": [
    "The set of equations of a sizing code can generate typical issues such : \n",
    "- Underconstrained set of equations: the lacking equations can come from additional scenarios, estimation models or additional sizing variable.   \n",
    "- overconstrained equations often due to the selection of a component on multiple critera: the adding of over-sizing coefficients and constraints in the optimization problem can generally fix this issue   \n",
    "- algebraic loops often due to selection criteria requiring informations generally available after the selection \n",
    "\n",
    "Concerning overconstraints components, we have here:\n",
    "- Brushless motors with multiple torque and voltage constraints (hover and transient vertical displacement) \n",
    "\n",
    "Multiple algebraic loops appears in the sizing problem:\n",
    "- The thrust depends of the total mass which depend of components required for generating this thrust\n",
    "\n",
    "The final optimization problem depends thus of these parameters:\n",
    "- $\\beta_{pro}=pitch/diameter$ ratio to define the propeller\n",
    "- $k_{os}$ over sizing coefficient on the load mass to estimate the final total mass\n",
    "- $k_{mot}$ over sizing coeffcient on the motor torque to estimate the max torque with the hover flight conditions\n",
    "- $k_{speed,mot}$ over sizing coeffcient on the motor speed to take into account voltage limits during hover or take-off flight\n",
    "- $k_{ND}$ slow down propeller coef : ND = kNDmax / k_ND\n",
    "- $k_{D}$ aspect ratio e_arm/D_out_arm (thickness/diameter) for the beam of the frame\n",
    "- $k_{mb}$ ratio battery mass / payload mass\n",
    "- $k_{vb}$ over sizing coefficient for the battery voltage"
   ]
  },
  {
   "cell_type": "markdown",
   "metadata": {
    "slideshow": {
     "slide_type": "slide"
    }
   },
   "source": [
    "More details in the setting up of sizing code can be found in the  [following paper](https://www.researchgate.net/profile/Marc_Budinger/publication/277933677_Computer-aided_definition_of_sizing_procedures_and_optimization_problems_of_mechatronic_systems/links/55969de508ae793d137c7ea5/Computer-aided-definition-of-sizing-procedures-and-optimization-problems-of-mechatronic-systems.pdf):  \n",
    "\n",
    "> Reysset, A., Budinger, M., & Maré, J. C. (2015). Computer-aided definition of sizing procedures and optimization problems of mechatronic systems. Concurrent Engineering, 23(4), 320-332.\n",
    "\n",
    "The sizing code is defined here in a function which can give:\n",
    "- an evaluation of the objective: here the total mass\n",
    "- an evaluation of the constraints: \n",
    "\n",
    "Here is an non-exhaustive XDSM diagram of the multirotor sizing code:\n",
    "\n",
    "![XDSM](pictures/xdsm_multirotor_mdo.png)"
   ]
  },
  {
   "cell_type": "markdown",
   "metadata": {},
   "source": [
    "We will now build the sizing code for the system optimization. "
   ]
  },
  {
   "cell_type": "markdown",
   "metadata": {},
   "source": [
    "### 1. Specifications\n",
    "The first step is to provide the specifications (top-level requirements) for the drone.\n",
    "\n",
    "Main specifications :\n",
    "- a load (video, control card) of mass $M_{load}$.  \n",
    "- an autonomy $t_{hf}$ for the hover flight.\n",
    "- an acceleration to take off $a_{to}$."
   ]
  },
  {
   "cell_type": "code",
   "execution_count": 2,
   "metadata": {},
   "outputs": [],
   "source": [
    "# SPECIFICATIONS\n",
    "\n",
    "# Load\n",
    "M_pay = 50. # [kg] load mass\n",
    "\n",
    "# Acceleration during take off\n",
    "a_to = 0.25 * 9.81 # [m/s**2] acceleration\n",
    "\n",
    "# Autonomy\n",
    "t_hov_spec = 25. # [min] time of hover flight\n",
    "\n",
    "# MTOW\n",
    "MTOW = 360. # [kg] maximal mass allowed"
   ]
  },
  {
   "cell_type": "markdown",
   "metadata": {},
   "source": [
    "### 2. Architecture definition and design assumptions\n",
    "\n",
    "Then, we must provide the architecture definition and design assumptions for the models."
   ]
  },
  {
   "cell_type": "code",
   "execution_count": 3,
   "metadata": {},
   "outputs": [],
   "source": [
    "# ARCHITECTURE of the multi-rotor drone (4,6, 8 arms, ...)\n",
    "N_arm = 4 # [-] number of arms\n",
    "N_pro_arm = 1 # [-] number of propeller per arm (1 or 2)\n",
    "\n",
    "# BATTERY AND ESC : reference parameters for scaling laws\n",
    "# Ref : MK-quadro\n",
    "M_bat_ref = .329 # [kg] mass\n",
    "E_bat_ref = 220.*3600.*.329 # [J]\n",
    "C_bat_ref= 5 # [Ah] Capacity\n",
    "I_bat_max_ref = 50*C_bat_ref # [A] max discharge current\n",
    "\n",
    "# Ref : Turnigy K_Force 70HV \n",
    "P_esc_ref = 3108. # [W] Power\n",
    "M_esc_ref = .115 # [kg] Mass\n",
    "\n",
    "# MOTOR : reference parameters for scaling laws\n",
    "# Ref : AXI 5325/16 GOLD LINE\n",
    "T_nom_mot_ref = 2.32  # [N*m] rated torque\n",
    "T_max_mot_ref = 85./70.*T_nom_mot_ref # [N*m] max torque\n",
    "R_mot_ref = 0.03  # [ohm] resistance\n",
    "M_mot_ref = 0.575 # [kg] mass\n",
    "K_T_ref = 0.03 # [N*m/A] torque coefficient\n",
    "T_mot_fr_ref = 0.03 # [N*m] friction torque (zero load, nominal speed)\n",
    "\n",
    "# FRAME\n",
    "sigma_max = 280e6/4. # [Pa] Composite max stress (2 reduction for dynamic, 2 reduction for stress concentration)\n",
    "rho_s = 1700. # [kg/m**3] Volumic mass of aluminum\n",
    "\n",
    "# PROPELLER\n",
    "# Specifications\n",
    "rho_air=1.18# [kg/m**3] Air density\n",
    "ND_max=105000./60.*.0254 #[Hz.m] Max speed limit (N.D max) for APC MR propellers\n",
    "\n",
    "# Reference parameters for scaling laws\n",
    "D_pro_ref=11.*.0254# [m] Reference propeller diameter\n",
    "M_pro_ref=0.53*0.0283# [kg] Reference propeller mass"
   ]
  },
  {
   "cell_type": "markdown",
   "metadata": {},
   "source": [
    "### 3. Optimization variables\n",
    "\n",
    "The next step is to give an initial value for the optimisation variables:"
   ]
  },
  {
   "cell_type": "code",
   "execution_count": 4,
   "metadata": {},
   "outputs": [],
   "source": [
    "# Optimisation variables : initial values\n",
    "beta_pro = .33 # pitch/diameter ratio of the propeller\n",
    "k_os = 3.2 # over sizing coefficient on the load mass \n",
    "k_ND = 1.2 # slow down propeller coef : ND = NDmax / k_ND\n",
    "k_mot = 1. # over sizing coefficient on the motor torque\n",
    "k_speed_mot = 1.2 # adaption winding coef on the motor speed\n",
    "k_mb = 1. # ratio battery/load mass\n",
    "k_vb = 1. # oversizing coefficient for voltage evaluation\n",
    "k_D = .99 # aspect ratio D_in/D_out for the beam of the frame"
   ]
  },
  {
   "cell_type": "markdown",
   "metadata": {},
   "source": [
    "### 4. Sizing code\n",
    "\n",
    "Now, complete the following sizing code with the missing equations:"
   ]
  },
  {
   "cell_type": "code",
   "execution_count": 8,
   "metadata": {},
   "outputs": [
    {
     "ename": "IndentationError",
     "evalue": "unexpected indent (3102614755.py, line 33)",
     "output_type": "error",
     "traceback": [
      "\u001b[1;36m  Cell \u001b[1;32mIn[8], line 33\u001b[1;36m\u001b[0m\n\u001b[1;33m    Omega_pro_hov = (2*math.pi/60)*n_pro_hov # [rad/s] Propeller speed\u001b[0m\n\u001b[1;37m    ^\u001b[0m\n\u001b[1;31mIndentationError\u001b[0m\u001b[1;31m:\u001b[0m unexpected indent\n"
     ]
    }
   ],
   "source": [
    "#%% DRONE\n",
    "\n",
    "#% SCENARIOS\n",
    "# ---\n",
    "M_total = k_os * M_pay  # [kg] Estimation of the total mass (or equivalent weight of dynamic scenario)\n",
    "N_pro = N_pro_arm * N_arm  # Propellers number\n",
    "F_pro_hov = M_total * (9.81) / N_pro  # [N] Thrust per propeller for hover\n",
    "F_pro_to = M_total * (9.81 + a_to) / N_pro  # [N] Thrust per propeller for take-off\n",
    "\n",
    "\n",
    "#% PROPELLER\n",
    "# --- \n",
    "# Estimation models for propeller aerodynamics\n",
    "C_t = 4.27e-02 + 1.44e-01 * beta_pro  # Thrust coef with T=C_T.rho.n^2.D^4\n",
    "C_p = -1.48e-03 + 9.72e-02 * beta_pro  # Power coef with P=C_p.rho.n^3.D^5\n",
    "\n",
    "# Propeller selection with take-off scenario\n",
    "\n",
    "nD = ND_max/k_ND\n",
    "D_pro = math.sqrt(F_pro_to/(C_t * rho_air * (ND_max/k_ND**2)))  # [m] Propeller diameter\n",
    "n_pro_to = nD/D_pro # [Hz] Propeller speed \n",
    "Omega_pro_to = (2*math.pi/60)*n_pro_to  # [rad/s] Propeller speed\n",
    "\n",
    "# Estimation model for mass\n",
    "M_pro = M_pro_ref * (D_pro/D_pro_ref) # [kg] Propeller mass\n",
    "\n",
    "# Performance in various operating conditions\n",
    "# Take-off\n",
    "P_pro_to = C_p*rho_air*(nD)**3*D_pro**2 # [W] Power per propeller\n",
    "T_pro_to = P_pro_to/Omega_pro_to # [N*m] Propeller torque\n",
    "# Hover\n",
    "n_pro_hov = math.sqrt(F_pro_hov/C_t * rho_air * D_pro**4) # [Hz] hover speed\n",
    "Omega_pro_hov = (2*math.pi/60)*n_pro_hov # [rad/s] Propeller speed\n",
    "P_pro_hov = C_p*rho_air*(n_pro_hov)**3*D_pro**5 # [W] Power per propeller\n",
    "T_pro_hov = P_pro_hov/Omega_pro_hov # [N*m] Propeller torque   \n",
    "\n",
    "\n",
    "#% MOTOR\n",
    "# --- \n",
    "# Nominal torque selection with hover scenario\n",
    "T_nom_mot = k_mot * T_pro_hov # [N*m] Motor nominal torque per propeller\n",
    "\n",
    "# Torque constant selection with take-off scenario\n",
    "U_bat = k_vb*1.84*P_pro_to**(0.36)  # [V] battery voltage estimation\n",
    "K_T = U_bat/(k_speed_mot * Omega_pro_to) # [N*m/A] or [V/(rad/s)] Kt motor\n",
    "\n",
    "# Estimation models\n",
    "M_mot = M_mot_ref * (T_nom_mot/T_nom_mot_ref)**(3/3.5) # [kg] Motor mass\n",
    "R_mot = R_mot_ref * (K_T/K_T_ref)**2 * (T_nom_mot/T_nom_mot_ref)**(-5/3.5)  # [ohm] motor resistance\n",
    "T_mot_fr = T_mot_fr_ref * (T_nom_mot/T_nom_mot_ref)**(3/3.5)  # [N*m] Friction torque\n",
    "T_max_mot = T_max_mot_ref * (T_nom_mot/T_nom_mot_ref)  # [N*m] Max. torque\n",
    "\n",
    "# Performance in various operating conditions\n",
    "# Hover current and voltage\n",
    "I_mot_hov = T_pro_hov/K_T  # [A] Current of the motor per propeller\n",
    "U_mot_hov = K_T * Omega_pro_hov + R_mot * I_mot_hov  # [V] Voltage of the motor per propeller\n",
    "P_el_mot_hov = U_mot_hov * I_mot_hov  # [W] Hover : electrical power\n",
    "# Takeoff current and voltage\n",
    "I_mot_to = T_pro_to/K_T  # [A] Current of the motor per propeller\n",
    "U_mot_to = K_T * Omega_pro_to + R_mot * I_mot_to # [V] Voltage of the motor per propeller\n",
    "P_el_mot_to = U_mot_to * I_mot_to # [W] Takeoff : electrical power\n",
    "\n",
    "\n",
    "#% BATTERY\n",
    "# ---     \n",
    "# Voltage selection with takeoff scenario\n",
    "# U_bat = k_vb*1.84*P_pro_to**(0.36)  # [V] battery voltage estimation\n",
    "\n",
    "# Energy selection with payload mass\n",
    "M_bat = k_mb * M_pay # [kg] Battery mass\n",
    "E_bat = E_bat_ref * (M_bat/M_bat_ref) # [J] Energy  of the battery (.8 coefficient because 80% use only of the total capacity)\n",
    "\n",
    "# Estimation models\n",
    "C_bat = E_bat/U_bat # [A*s] Capacity  of the battery \n",
    "I_bat_max = I_bat_max_ref * (C_bat/C_bat_ref) # [A] Max discharge current\n",
    "P_bat_max = U_bat * I_bat_max  # [W] Max power\n",
    "\n",
    "# Performance in hover\n",
    "I_bat_hov = P_el_mot_hov/U_bat  # [A] Current of the battery\n",
    "\n",
    "\n",
    "#% ESC\n",
    "# ---\n",
    "# Power selection with takeoff scenario\n",
    "P_esc = I_mot_to * U_bat  # [W] power electronic power (corner power or apparent power)\n",
    "\n",
    "# Estimation models\n",
    "U_esc = 1.84*P_esc**(0.36)  # [V] ESC voltage     \n",
    "M_esc = M_esc_ref * (P_esc/P_esc_ref)  # [kg] Mass ESC\n",
    "   \n",
    "\n",
    "#% FRAME\n",
    "# ---\n",
    "# Arms selection with propellers size\n",
    "alpha_sep = math.pi/N_arm # [rad] interior angle separation between propellers\n",
    "L_arm = D_pro/(2*math.sin(alpha_sep))  # [m] length of the arm\n",
    "\n",
    "# Tube diameter & thickness selection with take-off scenario\n",
    "D_in_arm = ((F_pro_to * L_arm * 32 * k_D)/(math.pi * sigma_max * (k_D**4 - 1)))**(1/3) # [m] inner diameter of the arm (hollow cylinder)\n",
    "D_out_arm = D_in_arm/k_D  # [m] outer diameter of the arm (hollow cylinder)\n",
    "\n",
    "# Estimation models\n",
    "M_arms = math.pi/4 * (D_out_arm**2 - D_in_arm**2) * rho_s * L_arm * N_arm  # [kg] mass of the arms\n",
    "M_body = (1/0.4) * M_arms # [kg] mass of the body (40% of total mass is the arms)\n",
    "M_frame = M_body + M_arms  # [kg] total mass of the frame\n",
    "\n",
    "\n",
    "#% OBJECTIVES\n",
    "# ---\n",
    "t_hov = C_bat/I_mot_hov # [min] Hover time \n",
    "M_total_real = (M_pro * N_pro) + (M_mot * N_arm) + (M_bat) + (M_esc * N_arm) + (M_frame) # [kg] Total mass\n",
    "\n",
    "\n",
    "#% CONSTRAINTS\n",
    "cons_1 = M_total-M_total_real\n",
    "cons_2 = T_max_mot-T_pro_to\n",
    "cons_3 = U_bat-U_mot_to\n",
    "cons_4 = P_bat_max-(P_el_mot_to*N_pro)/.95\n",
    "cons_5 = U_esc-U_bat\n",
    "cons_6 = t_hov-t_hov_spec\n",
    "cons_7 = MTOW-M_total_real"
   ]
  },
  {
   "cell_type": "markdown",
   "metadata": {},
   "source": [
    "If the code runs correctly (no error when executing the cell), you can now generate an OpenMDAO model from your equations. OpenMDAO is an open-source optimization framework that will allow you to evaluate and optimize the multi-rotor drone (see next notebook).\n",
    "\n",
    "To generate your OpenMDAO model, copy and paste your equations in the following widget. Then click on \"Analyse\" and wait for the analysis to be completed. The column \"variable name\" proposes a new notation for the variables, which will be useful later. You may also complete the \"Units\" column, though this task is not mandatory.\n",
    "\n",
    "If your fine with the analysis, click on the \"Generate File\" button. This will create a \"DRONE.py\" file containing your sizing code in the OpenMDAO format. You can now move on to the next (and last!) notebook."
   ]
  },
  {
   "cell_type": "code",
   "execution_count": 6,
   "metadata": {},
   "outputs": [
    {
     "data": {
      "application/vnd.jupyter.widget-view+json": {
       "model_id": "826b61a640344d018ca4001929182c07",
       "version_major": 2,
       "version_minor": 0
      },
      "text/plain": [
       "Box(children=(Box(children=(Btn(children=['Copy cells'], color='blue lighten-1', height='35px', width='250px')…"
      ]
     },
     "metadata": {},
     "output_type": "display_data"
    }
   ],
   "source": [
    "vb = GUI_notebook.init(In)\n",
    "vb"
   ]
  },
  {
   "cell_type": "code",
   "execution_count": null,
   "metadata": {},
   "outputs": [],
   "source": []
  }
 ],
 "metadata": {
  "kernelspec": {
   "display_name": "Python 3 (ipykernel)",
   "language": "python",
   "name": "python3"
  },
  "language_info": {
   "codemirror_mode": {
    "name": "ipython",
    "version": 3
   },
   "file_extension": ".py",
   "mimetype": "text/x-python",
   "name": "python",
   "nbconvert_exporter": "python",
   "pygments_lexer": "ipython3",
   "version": "3.8.12"
  }
 },
 "nbformat": 4,
 "nbformat_minor": 4
}
