{
 "cells": [
  {
   "cell_type": "markdown",
   "metadata": {},
   "source": [
    "<img src=\"./pictures/logo_sizinglab.png\" style=\"float:right; max-width: 60px; display: inline\" alt=\"SizingLab\" /></a>\n"
   ]
  },
  {
   "cell_type": "markdown",
   "metadata": {},
   "source": [
    "# Case study and architecture presentation\n",
    "\n",
    "*Written by Marc Budinger (INSA Toulouse), Scott Delbecq (ISAE-SUPAERO) and Félix Pollet (ISAE-SUPAERO), Toulouse, France.*\n",
    "\n",
    "This notebook aims at introducing the mechatronic system that will be studied in this Lab session."
   ]
  },
  {
   "cell_type": "markdown",
   "metadata": {},
   "source": [
    "### Case study: the multirotor Unmanned Aerial Vehicles (UAVs)\n",
    "\n",
    "The multirotor concept is not new and dates back to the first works on helicopter. In the 1920s, George de Bothezat (United States, 1922) and Etienne Oehmichen (France, 1924) built helicopters with fours rotors at the end of intersecting beams. However, mechanical power transmission and control were relatively complex and bulky.\n",
    "\n",
    "<figure><img src=\"./pictures/De_Bothezat_Flying_Octopus.jpg\" alt=\"Trulli\" style=\"width:40%\"><figcaption align = \"center\"><b>Fig.1 - George de Bothezat prototype</b></figcaption></figure>\n",
    "<figure><img src=\"./pictures/helico_4_helices_etienne_oehmichen_1924.jpg\" alt=\"Trulli\" style=\"width:40%\"><figcaption align = \"center\"><b>Fig.2 - Etienne Oehmichen prototype</b></figcaption></figure>\n",
    "\n",
    "During the last decade, technological innovations have significantly contributed to the development of smart and powerful multirotor UAVs: miniaturization and microelectronic with the integration of inertial sensors, increased computational power of control processors, new battery technologies with higher energy density, permanent magnet motors with higher torque density and high power densities electric-converters. Multirotors have become a reality, and the applications are numerous: precision agriculture, inspection of power lines, transportation of goods and medical supplies, etc. This aerial vehicle concept is found in a wide range of sizes and weights, allowing the transport of payloads from a few hundred grams to hundreds of kilograms.\n",
    "\n",
    "<figure><img src=\"./pictures/drone-anafi-usa-parrot.png\" alt=\"Trulli\" style=\"width:20%\"><figcaption align = \"center\"><b>Fig.3 - Parrot ANAFI USA</b></figcaption></figure>\n",
    "\n",
    "<figure><img src=\"./pictures/Ehang_216.jpg\" alt=\"Trulli\" style=\"width:30%\"><figcaption align = \"center\"><b>Fig.4 - eHang 216</b></figcaption></figure>\n",
    "\n",
    "For those interested, you can find [here](https://quadcopterarena.com/the-history-of-drones-and-quadcopters/) an introduction to the history of Unmanned Aerial Vehicles, the features of quadcopters and their applications.\n"
   ]
  },
  {
   "cell_type": "markdown",
   "metadata": {},
   "source": [
    "### Architecture of multirotor UAVs\n",
    "\n",
    "Multirotor UAVs can be defined as mechatronic systems since they include a combination of mechanical, electrical and electronic disciplines.\n",
    "\n",
    "The  diagram of the drone components and the listing of drone component parts presented below comes from an article called anatomy of a drone by [MakeZine](https://makezine.com/2014/01/07/anatomy-of-a-drone/). The main components are: \n",
    "* A. **STANDARD PROP**: The same “tractor” propeller used on standard front-engine R/C airplanes.  \n",
    "* B. **“PUSHER” PROP**: These contra-rotating props exactly cancel out motor torques during stationary level flight. Opposite pitch gives downdraft.  \n",
    "* C. **MOTOR**: Usually a brushless electric “outrunner” type, which is more efficient, more reliable, and quieter than a brushed motor.  \n",
    "* D. **MOTOR MOUNT**: Sometimes built into combination fittings with landing struts.  \n",
    "* E. **LANDING GEAR**: Designs that need high ground clearance may adopt helicopter-style skids mounted directly to the body, while designs with no hanging payload may omit landing gear altogether.  \n",
    "* F. **BOOM**: Shorter booms increase maneuverability, while longer booms increase stability. Booms must be tough to hold up in a crash while interfering with prop downdraft as little as possible.  \n",
    "* G. **MAIN BODY**: Central “hub” from which booms radiate like spokes on a wheel. Houses battery, avionics, cameras, and sensors.  \n",
    "* H. **ELECTRONIC SPEED CONTROLLER (ESC)**: Converts DC battery power into 3-phase AC for driving brushless motors.  \n",
    "* I. **FLIGHT CONTROLLER**: Interprets input from receiver, GPS module, battery monitor, and onboard sensors. Regulates motor speeds, via ESCs, to provide steering, as well as triggering cameras or other payloads. Controls autopilot and other autonomous functions.  \n",
    "* J. **GPS MODULE**: Often combines GPS receiver and magnetometer to provide latitude, longitude, elevation, and compass heading from a single device.  \n",
    "* K. **RECEIVER**: Often a standard R/C radio receiver unit. The minimum number of channels needed to control a quad is 4, but 5 is usually recommended.  \n",
    "* L. **ANTENNA**: Depending on your receiver, may be a loose wire whip or helical “rubber ducky” type.  \n",
    "* M. **BATTERY**: Lithium polymer (LiPo) batteries offer the best combination of energy density, power density, and lifetime on the market.  \n",
    "* N. **BATTERY MONITOR**: Provides in-flight power level monitoring to flight controller.  \n",
    "\n",
    "<figure><img src=\"./pictures/anatomy-of-a-drone.png\" alt=\"Trulli\" style=\"width:30%\"><figcaption align = \"center\"><b>Fig.5 - Anatonmy of a drone</b></figcaption></figure>\n",
    "\n",
    "The load is often a camera system:  \n",
    "* O. **GIMBAL**: Pivoting mount that rotates about 1, 2, or 3 axes to provide stabilization and pointing of cameras or other sensors.  \n",
    "* P. **GIMBAL MOTOR**: Brushless DC motors can be used for direct-drive angular positioning, too, which requires specially-wound coils and dedicated control circuitry that have only recently become commercially available.  \n",
    "* Q. **GIMBAL CONTROLLER**: Allows control of direct-drive brushless gimbal motors as if they were standard hobby servos.  \n",
    "* R. **CAMERA**: GoPro or other compact HD video unit with onboard storage. Real-time streaming is possible with special equipment.  \n"
   ]
  }
 ],
 "metadata": {
  "kernelspec": {
   "display_name": "Python 3 (ipykernel)",
   "language": "python",
   "name": "python3"
  },
  "language_info": {
   "codemirror_mode": {
    "name": "ipython",
    "version": 3
   },
   "file_extension": ".py",
   "mimetype": "text/x-python",
   "name": "python",
   "nbconvert_exporter": "python",
   "pygments_lexer": "ipython3",
   "version": "3.8.12"
  }
 },
 "nbformat": 4,
 "nbformat_minor": 4
}
