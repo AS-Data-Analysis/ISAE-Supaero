{
 "cells": [
  {
   "cell_type": "markdown",
   "metadata": {
    "slideshow": {
     "slide_type": "slide"
    }
   },
   "source": [
    "<img src=\"./pictures/logo_sizinglab.png\" style=\"float:right; max-width: 60px; display: inline\" alt=\"SizingLab\" /></a>"
   ]
  },
  {
   "cell_type": "markdown",
   "metadata": {
    "slideshow": {
     "slide_type": "slide"
    }
   },
   "source": [
    "# Battery and ESC selection\n",
    "*Written by Marc Budinger (INSA Toulouse), Scott Delbecq (ISAE-SUPAERO) and Félix Pollet (ISAE-SUPAERO), Toulouse, France.*"
   ]
  },
  {
   "cell_type": "markdown",
   "metadata": {
    "slideshow": {
     "slide_type": "slide"
    }
   },
   "source": [
    "## Design graph \n",
    "\n",
    "The following diagrams represent the design graphs of the battery and ESC selection.\n",
    "\n",
    "\n",
    "![DesignGraph](./pictures/design_graphs/DesignGraphs_battery.svg)\n",
    "\n",
    "![DesignGraph](./pictures/design_graphs/DesignGraphs_esc.svg)\n",
    "\n",
    "The design graphs for the overall drone system can be found in [here](./pictures/design_graphs/DesignGraphs_Overall_Solution.pdf).\n"
   ]
  },
  {
   "cell_type": "markdown",
   "metadata": {},
   "source": [
    "### Sizing code and optimization\n"
   ]
  },
  {
   "cell_type": "code",
   "execution_count": null,
   "metadata": {},
   "outputs": [],
   "source": [
    "# Specifications\n",
    "N_pro=4.0#[-] Number of propellers\n",
    "M_pay=1.0#[kg] Payload mass\n",
    "\n",
    "# Reference parameters for scaling laws\n",
    "# Ref : MK-quadro\n",
    "M_bat_ref = .329 # [kg] mass\n",
    "E_bat_ref = 220.*3600.*.329 # [J]\n",
    "\n",
    "# Ref : Turnigy K_Force 70HV \n",
    "P_esc_ref = 3108. # [W] Power\n",
    "M_esc_ref = .115 # [kg] Mass\n",
    "\n",
    "# Assumption\n",
    "U_bat_est=14.0#[V] Battery voltage estimation\n",
    "P_el_mot_hov=10.0#[W] Electrical power consumption for one motor during hover\n",
    "P_el_mot_to=30.0#[W] Electrical power consumption for one motor during takeoff\n",
    "U_mot_to=12.0#[V] Motor voltage during takeoff"
   ]
  },
  {
   "cell_type": "code",
   "execution_count": null,
   "metadata": {},
   "outputs": [],
   "source": [
    "#Design variables\n",
    "\n",
    "# -----------------------\n",
    "# equations\n",
    "# -----------------------\n",
    "\n",
    "# Hover --> autonomy\n",
    "\n",
    "# ESC\n"
   ]
  }
 ],
 "metadata": {
  "kernelspec": {
   "display_name": "Python 3 (ipykernel)",
   "language": "python",
   "name": "python3"
  },
  "language_info": {
   "codemirror_mode": {
    "name": "ipython",
    "version": 3
   },
   "file_extension": ".py",
   "mimetype": "text/x-python",
   "name": "python",
   "nbconvert_exporter": "python",
   "pygments_lexer": "ipython3",
   "version": "3.8.12"
  }
 },
 "nbformat": 4,
 "nbformat_minor": 4
}
