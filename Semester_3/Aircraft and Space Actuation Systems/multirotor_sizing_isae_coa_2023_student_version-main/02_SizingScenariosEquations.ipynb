{
 "cells": [
  {
   "cell_type": "markdown",
   "metadata": {},
   "source": [
    "<img src=\"./pictures/logo_sizinglab.png\" style=\"float:right; max-width: 60px; display: inline\" alt=\"SizingLab\" /></a>\n"
   ]
  },
  {
   "cell_type": "markdown",
   "metadata": {},
   "source": [
    "# Sizing scenarios and design drivers\n",
    "\n",
    "*Written by Marc Budinger (INSA Toulouse), Scott Delbecq (ISAE-SUPAERO) and Félix Pollet (ISAE-SUPAERO), Toulouse, France.*\n",
    "\n",
    "The preliminary sizing of UAVs aims at defining the main drone characteristics and selecting the components based on a few **sizing scenarios**. The sizing scenarios are part of the specification process and may include both transient and endurance criteria, such as maximum rate of climb and hover flight endurance. The final overall design has to consider simultaneously the various sizing scenarios that may impact the components selection through **design drivers**."
   ]
  },
  {
   "cell_type": "markdown",
   "metadata": {},
   "source": [
    "### Design drivers\n",
    "\n",
    "Design drivers are physical factors that influence the design process of a component. For example, the propeller design is driven, among others, by the maximum thrust it can provide.\n",
    "\n",
    "Table 1 summarizes the main system components. \n",
    "\n",
    "> **Exercise**: for each component, list the main design drivers to be taken into account for the design process. Complete Table 1."
   ]
  },
  {
   "cell_type": "markdown",
   "metadata": {},
   "source": [
    "### Sizing scenarios\n",
    "\n",
    "Endurance scenarios, like hover flight need to be taken into account for the selection of the battery endurance and the evaluation of the motor temperature rise. Extreme performance criteria, such as maximum transitory acceleration or maximum rate of climb are fundamental to determine the maximum rotational speed, maximum propeller torque, Electronic Speed Controller (ESC) corner power, battery voltage and power, and mechanical stress. \n",
    "\n",
    "> **Exercise**: for each design driver, list the critical scenarios that need to be taken into account for the component selection. Complete Table 1.\n"
   ]
  },
  {
   "cell_type": "markdown",
   "metadata": {},
   "source": [
    "**<center>Table 1: Design drivers and sizing scenarios</center>**\n",
    "\n",
    "| Components                  \t| Design drivers   \t| Parameters involved         \t| Sizing scenarios \t|\n",
    "|-----------------------------\t|------------------\t|-----------------------------\t|------------------\t|\n",
    "| Propeller                   \t| Max thrust       \t| Diameter, tip speed         \t| Takeoff          \t|\n",
    "|                             \t|                  \t|                             \t| Climb            \t|\n",
    "|                             \t| Efficiency       \t| Pitch                       \t| Hover            \t|\n",
    "|                             \t|                  \t|                             \t| Cruise           \t|\n",
    "| Motor                       \t| Temperature rise \t| Nominal torque, Resistance  \t| Hover            \t|\n",
    "|                             \t|                  \t|                             \t| Cruise           \t|\n",
    "|                             \t| Max. voltage     \t| Torque constant, Resistance \t| Takeoff          \t|\n",
    "|                             \t|                  \t|                             \t| Climb            \t|\n",
    "| Electronic Speed Controller \t| Temperature rise \t| Max power, Max current      \t| Takeoff          \t|\n",
    "|                             \t|                  \t|                             \t| Climb            \t|\n",
    "| Battery                     \t| Energy           \t| Voltage, Capacity           \t| Hover (autonomy) \t|\n",
    "|                             \t|                  \t|                             \t| Cruise (range)   \t|\n",
    "|                             \t| Power            \t| Voltage, Max discharge rate \t| Takeoff          \t|\n",
    "|                             \t|                  \t|                             \t| Climb            \t|\n",
    "| Frame                       \t| Stress           \t| Mechanical strength         \t| Takeoff          \t|\n",
    "|                             \t|                  \t|                             \t| Landing          \t|\n",
    "|                             \t|                  \t|                             \t| Crash            \t|\n",
    "\n",
    "In the rest of this lab, **only the hover and takeoff scenarios will be covered**.\n",
    "\n",
    "**<center>Table 2: Design drivers and sizing scenarios with focus on hover and takeoff scenarios</center>**\n",
    "\n",
    "| Components                  \t| Design drivers   \t| Parameters involved         \t| Sizing scenarios \t|\n",
    "|-----------------------------\t|------------------\t|-----------------------------\t|------------------\t|\n",
    "| Propeller                   \t| Max thrust       \t| Diameter, tip speed         \t| Takeoff          \t|\n",
    "|                             \t| Efficiency       \t| Pitch                       \t| Hover            \t|\n",
    "| Motor                       \t| Temperature rise \t| Nominal torque, Resistance  \t| Hover            \t|\n",
    "|                             \t| Max. voltage     \t| Torque constant, Resistance \t| Takeoff          \t|\n",
    "| Electronic Speed Controller \t| Temperature rise \t| Max power, Max current      \t| Takeoff          \t|\n",
    "| Battery                     \t| Energy           \t| Voltage, Capacity           \t| Hover (autonomy) \t|\n",
    "|                             \t| Power            \t| Voltage, Max discharge rate \t| Takeoff          \t|\n",
    "| Frame                       \t| Stress           \t| Mechanical strength         \t| Takeoff          \t|"
   ]
  }
 ],
 "metadata": {
  "kernelspec": {
   "display_name": "Python 3 (ipykernel)",
   "language": "python",
   "name": "python3"
  },
  "language_info": {
   "codemirror_mode": {
    "name": "ipython",
    "version": 3
   },
   "file_extension": ".py",
   "mimetype": "text/x-python",
   "name": "python",
   "nbconvert_exporter": "python",
   "pygments_lexer": "ipython3",
   "version": "3.8.12"
  }
 },
 "nbformat": 4,
 "nbformat_minor": 4
}
