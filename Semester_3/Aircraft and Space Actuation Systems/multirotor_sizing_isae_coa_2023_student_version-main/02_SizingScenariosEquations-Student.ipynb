{
 "cells": [
  {
   "cell_type": "markdown",
   "metadata": {},
   "source": [
    "<img src=\"./pictures/logo_sizinglab.png\" style=\"float:right; max-width: 60px; display: inline\" alt=\"SizingLab\" /></a>\n"
   ]
  },
  {
   "cell_type": "markdown",
   "metadata": {},
   "source": [
    "# Sizing scenarios and design drivers\n",
    "\n",
    "*Written by Marc Budinger (INSA Toulouse), Scott Delbecq (ISAE-SUPAERO) and Félix Pollet (ISAE-SUPAERO), Toulouse, France.*\n",
    "\n",
    "The preliminary sizing of UAVs aims at defining the main drone characteristics and selecting the components based on a few **sizing scenarios**. The sizing scenarios are part of the specification process and may include both transient and endurance criteria, such as maximum rate of climb and hover flight endurance. The final overall design has to consider simultaneously the various sizing scenarios that may impact the components selection through **design drivers**."
   ]
  },
  {
   "cell_type": "markdown",
   "metadata": {},
   "source": [
    "### Design drivers\n",
    "\n",
    "Design drivers are physical factors that influence the design process of a component. For example, the propeller design is driven, among others, by the maximum thrust it can provide.\n",
    "\n",
    "Table 1 summarizes the main system components. \n",
    "\n",
    "> **Exercise**: for each component, list the main design drivers to be taken into account for the design process. Complete Table 1."
   ]
  },
  {
   "cell_type": "markdown",
   "metadata": {},
   "source": [
    "### Sizing scenarios\n",
    "\n",
    "Endurance scenarios, like hover flight need to be taken into account for the selection of the battery endurance and the evaluation of the motor temperature rise. Extreme performance criteria, such as maximum transitory acceleration or maximum rate of climb are fundamental to determine the maximum rotational speed, maximum propeller torque, Electronic Speed Controller (ESC) corner power, battery voltage and power, and mechanical stress. \n",
    "\n",
    "> **Exercise**: for each design driver, list the critical scenarios that need to be taken into account for the component selection. Complete Table 1.\n"
   ]
  },
  {
   "cell_type": "markdown",
   "metadata": {},
   "source": [
    "**<center>Table 1: Design drivers and sizing scenarios</center>**\n",
    "\n",
    "| Components                  \t| Design drivers \t| Sizing scenarios \t|\n",
    "|-----------------------------\t|----------------\t|------------------\t|\n",
    "| Propeller                   \t| Max thrust     \t| Takeoff          \t|\n",
    "|                             \t|                \t| Climb            \t|\n",
    "|                             \t|                \t|                  \t|\n",
    "| Motor                       \t|                \t|                  \t|\n",
    "|                             \t|                \t|                  \t|\n",
    "| Electronic Speed Controller \t|                \t|                  \t|\n",
    "|                             \t|                \t|                  \t|\n",
    "| Battery                     \t|                \t|                  \t|\n",
    "|                             \t|                \t|                  \t|\n",
    "| Frame                       \t|                \t|                  \t|\n",
    "|                             \t|                \t|                  \t|\n",
    "\n",
    "In the rest of this lab, **only the hover and takeoff scenarios will be covered**."
   ]
  }
 ],
 "metadata": {
  "kernelspec": {
   "display_name": "Python 3 (ipykernel)",
   "language": "python",
   "name": "python3"
  },
  "language_info": {
   "codemirror_mode": {
    "name": "ipython",
    "version": 3
   },
   "file_extension": ".py",
   "mimetype": "text/x-python",
   "name": "python",
   "nbconvert_exporter": "python",
   "pygments_lexer": "ipython3",
   "version": "3.8.12"
  }
 },
 "nbformat": 4,
 "nbformat_minor": 4
}
