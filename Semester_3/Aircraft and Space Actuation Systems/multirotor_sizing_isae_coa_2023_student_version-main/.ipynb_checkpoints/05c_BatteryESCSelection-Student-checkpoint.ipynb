{
 "cells": [
  {
   "cell_type": "markdown",
   "metadata": {
    "slideshow": {
     "slide_type": "slide"
    }
   },
   "source": [
    "<img src=\"./pictures/logo_sizinglab.png\" style=\"float:right; max-width: 60px; display: inline\" alt=\"SizingLab\" /></a>"
   ]
  },
  {
   "cell_type": "markdown",
   "metadata": {
    "slideshow": {
     "slide_type": "slide"
    }
   },
   "source": [
    "# Battery and ESC selection\n",
    "*Written by Marc Budinger (INSA Toulouse), Scott Delbecq (ISAE-SUPAERO) and Félix Pollet (ISAE-SUPAERO), Toulouse, France.*"
   ]
  },
  {
   "cell_type": "markdown",
   "metadata": {
    "slideshow": {
     "slide_type": "slide"
    }
   },
   "source": [
    "## Design graph \n",
    "\n",
    "The following diagrams represent the design graphs of the battery and ESC selection.\n",
    "\n",
    "\n",
    "![DesignGraph](./pictures/design_graphs/DesignGraphs_battery_student.svg)\n",
    "\n",
    "![DesignGraph](./pictures/design_graphs/DesignGraphs_esc_student.svg)\n",
    "\n",
    "> **Questions:**\n",
    "* Recall the main equations to take into account during ESC and battery selection\n",
    "* Orientate the arrows\n",
    "* Give equations order, inputs/outputs at each step of this part of sizing procedure\n",
    "\n"
   ]
  },
  {
   "cell_type": "markdown",
   "metadata": {},
   "source": [
    "### Sizing code and optimization\n",
    "\n",
    "> Exercice: propose a sizing code for the selection of a battery and ESC.\n"
   ]
  },
  {
   "cell_type": "code",
   "execution_count": 3,
   "metadata": {},
   "outputs": [],
   "source": [
    "# Specifications\n",
    "N_pro=4.0#[-] Number of propellers\n",
    "M_pay=1.0#[kg] Payload mass\\\n",
    "kmb=1\n",
    "eta=0.9\n",
    "t_hov=1\n",
    "\n",
    "# Reference parameters for scaling laws\n",
    "# Ref : MK-quadro\n",
    "M_bat_ref = .329 # [kg] mass\n",
    "E_bat_ref = 220.*3600.*.329 # [J]\n",
    "C_bat_ref= 5 # [Ah] Capacity\n",
    "I_max_bat_ref = 50*C_bat_ref # [A] max discharge current\n",
    "\n",
    "# Ref : Turnigy K_Force 70HV \n",
    "P_esc_ref = 3108. # [W] Power\n",
    "M_esc_ref = .115 # [kg] Mass\n",
    "U_max_esc_ref = 33.27 # U_esc=1.84*P_esc**(0.36) (notebook 3-bottom) --> U_esc_ref = 1.84*(3108)**0.36\n",
    "\n",
    "# Assumption\n",
    "U_bat_est=14.0#[V] Battery voltage estimation\n",
    "P_el_mot_hov=10.0#[W] Electrical power consumption for one motor during hover\n",
    "P_el_mot_to=30.0#[W] Electrical power consumption for one motor during takeoff\n",
    "U_mot_to=12.0#[V] Motor voltage during takeoff"
   ]
  },
  {
   "cell_type": "code",
   "execution_count": 4,
   "metadata": {},
   "outputs": [],
   "source": [
    "#Design variables\n",
    "\n",
    "# -----------------------\n",
    "E_bat = N_pro * P_el_mot_hov * t_hov/eta\n",
    "M_bat = kmb * M_pay\n",
    "E_bat = E_bat_ref * (M_bat/M_bat_ref)\n",
    "\n",
    "# Alternate method\n",
    "# Ke=1\n",
    "# E_bat = Ke * N_pro * P_el_mot_hov * t_hov/eta\n",
    "# M_bat = M_bat_ref * (E_bat/E_bat_ref)\n",
    "\n",
    "C_bat = E_bat/U_bat_est\n",
    "I_max_bat = I_max_bat_ref * (C_bat/C_bat_ref)\n",
    "P_max_bat = U_bat_est * I_max_bat\n",
    "\n",
    "# The 2 inequalities to check for power and voltage will be given as constraints to the optimizer\n",
    "\n",
    "# -----------------------\n",
    "\n",
    "# Hover --> autonomy\n",
    "\n",
    "# ESC\n",
    "I_mot_to = P_el_mot_to/U_mot_to\n",
    "P_esc = I_mot_to * U_bat_est\n",
    "\n",
    "U_max_esc = U_max_esc_ref* (P_esc/P_esc_ref)**(1/3)\n",
    "M_esc = M_esc_ref * (P_esc/P_esc_ref)"
   ]
  }
 ],
 "metadata": {
  "kernelspec": {
   "display_name": "Python 3 (ipykernel)",
   "language": "python",
   "name": "python3"
  },
  "language_info": {
   "codemirror_mode": {
    "name": "ipython",
    "version": 3
   },
   "file_extension": ".py",
   "mimetype": "text/x-python",
   "name": "python",
   "nbconvert_exporter": "python",
   "pygments_lexer": "ipython3",
   "version": "3.8.12"
  }
 },
 "nbformat": 4,
 "nbformat_minor": 4
}
